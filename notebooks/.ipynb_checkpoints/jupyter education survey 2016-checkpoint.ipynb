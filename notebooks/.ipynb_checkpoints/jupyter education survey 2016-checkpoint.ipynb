{
 "cells": [
  {
   "cell_type": "code",
   "execution_count": 1,
   "metadata": {
    "collapsed": false
   },
   "outputs": [
    {
     "data": {
      "text/html": [
       "\n",
       "    <div class=\"bk-root\">\n",
       "        <a href=\"http://bokeh.pydata.org\" target=\"_blank\" class=\"bk-logo bk-logo-small bk-logo-notebook\"></a>\n",
       "        <span id=\"33e2c616-7cf3-4e0e-85ec-021ffbf3cf7f\">Loading BokehJS ...</span>\n",
       "    </div>"
      ]
     },
     "metadata": {},
     "output_type": "display_data"
    },
    {
     "data": {
      "application/javascript": [
       "\n",
       "(function(global) {\n",
       "  function now() {\n",
       "    return new Date();\n",
       "  }\n",
       "\n",
       "  if (typeof (window._bokeh_onload_callbacks) === \"undefined\") {\n",
       "    window._bokeh_onload_callbacks = [];\n",
       "  }\n",
       "\n",
       "  function run_callbacks() {\n",
       "    window._bokeh_onload_callbacks.forEach(function(callback) { callback() });\n",
       "    delete window._bokeh_onload_callbacks\n",
       "    console.info(\"Bokeh: all callbacks have finished\");\n",
       "  }\n",
       "\n",
       "  function load_libs(js_urls, callback) {\n",
       "    window._bokeh_onload_callbacks.push(callback);\n",
       "    if (window._bokeh_is_loading > 0) {\n",
       "      console.log(\"Bokeh: BokehJS is being loaded, scheduling callback at\", now());\n",
       "      return null;\n",
       "    }\n",
       "    if (js_urls == null || js_urls.length === 0) {\n",
       "      run_callbacks();\n",
       "      return null;\n",
       "    }\n",
       "    console.log(\"Bokeh: BokehJS not loaded, scheduling load and callback at\", now());\n",
       "    window._bokeh_is_loading = js_urls.length;\n",
       "    for (var i = 0; i < js_urls.length; i++) {\n",
       "      var url = js_urls[i];\n",
       "      var s = document.createElement('script');\n",
       "      s.src = url;\n",
       "      s.async = false;\n",
       "      s.onreadystatechange = s.onload = function() {\n",
       "        window._bokeh_is_loading--;\n",
       "        if (window._bokeh_is_loading === 0) {\n",
       "          console.log(\"Bokeh: all BokehJS libraries loaded\");\n",
       "          run_callbacks()\n",
       "        }\n",
       "      };\n",
       "      s.onerror = function() {\n",
       "        console.warn(\"failed to load library \" + url);\n",
       "      };\n",
       "      console.log(\"Bokeh: injecting script tag for BokehJS library: \", url);\n",
       "      document.getElementsByTagName(\"head\")[0].appendChild(s);\n",
       "    }\n",
       "  };\n",
       "\n",
       "  var js_urls = ['https://cdn.pydata.org/bokeh/release/bokeh-0.12.0.min.js', 'https://cdn.pydata.org/bokeh/release/bokeh-widgets-0.12.0.min.js', 'https://cdn.pydata.org/bokeh/release/bokeh-compiler-0.12.0.min.js'];\n",
       "\n",
       "  var inline_js = [\n",
       "    function(Bokeh) {\n",
       "      Bokeh.set_log_level(\"info\");\n",
       "    },\n",
       "    \n",
       "    function(Bokeh) {\n",
       "      Bokeh.$(\"#33e2c616-7cf3-4e0e-85ec-021ffbf3cf7f\").text(\"BokehJS successfully loaded\");\n",
       "    },\n",
       "    function(Bokeh) {\n",
       "      console.log(\"Bokeh: injecting CSS: https://cdn.pydata.org/bokeh/release/bokeh-0.12.0.min.css\");\n",
       "      Bokeh.embed.inject_css(\"https://cdn.pydata.org/bokeh/release/bokeh-0.12.0.min.css\");\n",
       "      console.log(\"Bokeh: injecting CSS: https://cdn.pydata.org/bokeh/release/bokeh-widgets-0.12.0.min.css\");\n",
       "      Bokeh.embed.inject_css(\"https://cdn.pydata.org/bokeh/release/bokeh-widgets-0.12.0.min.css\");\n",
       "    }\n",
       "  ];\n",
       "\n",
       "  function run_inline_js() {\n",
       "    for (var i = 0; i < inline_js.length; i++) {\n",
       "      inline_js[i](window.Bokeh);\n",
       "    }\n",
       "  }\n",
       "\n",
       "  if (window._bokeh_is_loading === 0) {\n",
       "    console.log(\"Bokeh: BokehJS loaded, going straight to plotting\");\n",
       "    run_inline_js();\n",
       "  } else {\n",
       "    load_libs(js_urls, function() {\n",
       "      console.log(\"Bokeh: BokehJS plotting callback run at\", now());\n",
       "      run_inline_js();\n",
       "    });\n",
       "  }\n",
       "}(this));"
      ]
     },
     "metadata": {},
     "output_type": "display_data"
    },
    {
     "data": {
      "application/javascript": [
       "require([\n",
       "                    \"notebook/js/codecell\",\n",
       "                    \"codemirror/mode/md/md\"\n",
       "                ],\n",
       "                function(cc){\n",
       "                    cc.CodeCell.options_default.highlight_modes.magic_md = {\n",
       "                        reg: [\"^%%md\"]\n",
       "                    };\n",
       "                }\n",
       "            );\n",
       "            "
      ],
      "text/plain": [
       "<IPython.core.display.Javascript object>"
      ]
     },
     "metadata": {},
     "output_type": "display_data"
    }
   ],
   "source": [
    "from whatever import *; from builtins import *; from operator import *; from fz import _1\n",
    "from bokeh import charts\n",
    "charts.output_notebook()\n",
    "%matplotlib inline\n",
    "from jinja2 import Template; magical('md', lambda x: Template(x).render(**globals()), lang='md', display='Markdown')"
   ]
  },
  {
   "cell_type": "code",
   "execution_count": 2,
   "metadata": {
    "collapsed": true
   },
   "outputs": [],
   "source": [
    "import pandas as pd; read_csv = memoize(pd.read_csv); import requests; get_ = memoize(requests.get)"
   ]
  },
  {
   "cell_type": "code",
   "execution_count": 5,
   "metadata": {
    "collapsed": false
   },
   "outputs": [
    {
     "data": {
      "text/markdown": [
       "## Metadata 'bout the data.\n",
       "> # 2016 Jupyter Education Survey\n",
       "> \n",
       "> [![DOI](https://zenodo.org/badge/doi/10.5281/zenodo.51701.svg)](http://dx.doi.org/10.5281/zenodo.51701)\n",
       "> \n",
       "> This dataset is the responses for the Jupyter education survey conducted in May\n",
       "> 2016. This includes the following files:\n",
       "> \n",
       "> * [questions.pdf](questions.pdf) A PDF containing the questions that were asked.\n",
       "> * [responses.csv](responses.csv) A CSV file containing the survey responses.\n",
       "> \n",
       "> This survey was designed by Jessica Hamrick (@jhamrick) and was sourced\n",
       "> primarily from the Jupyter, Jupyter Education, and Software Carpentry email\n",
       "> lists between 04/22/2016 and 05/07/2016.\n",
       "> \n",
       "> Please cite as:\n",
       "> \n",
       "> ```\n",
       "> @misc{Hamrick2016,\n",
       ">   author       = {Hamrick, Jessica B. and Jupyter Development Team},\n",
       ">   title        = {2016 Jupyter Education Survey},\n",
       ">   month        = may,\n",
       ">   year         = 2016,\n",
       ">   doi          = {10.5281/zenodo.51701},\n",
       ">   url          = {https://github.com/jupyter/datasets/tree/master/surveys/2016-05-education-survey}\n",
       "> }\n",
       "> ```"
      ],
      "text/plain": [
       "<IPython.core.display.Markdown object>"
      ]
     },
     "metadata": {},
     "output_type": "display_data"
    }
   ],
   "source": [
    "%%md \n",
    "## Metadata 'bout the data.\n",
    "{{_X(about)[get_][this().text.f][__builtin__.str.splitlines].map('> '.__add__)['\\n'.join].f()}}"
   ]
  },
  {
   "cell_type": "code",
   "execution_count": 6,
   "metadata": {
    "collapsed": false
   },
   "outputs": [],
   "source": [
    "about = \"https://raw.githubusercontent.com/jupyter/surveys/7e0070cb41ab74f76aa746d63cf8034686a1f761/surveys/2016-05-education-survey/README.md\"\n",
    "doi = \"https://zenodo.org/record/51701/files/responses.csv\"\n",
    "df = _X(doi) > read_csv; df = df.set_index('Timestamp'); df.index = pd.to_datetime(df.index)"
   ]
  },
  {
   "cell_type": "code",
   "execution_count": 7,
   "metadata": {
    "collapsed": false
   },
   "outputs": [
    {
     "data": {
      "text/markdown": [
       "\n",
       "# data 'bout the data\n",
       "\n",
       "* There are at most `24` ~~columns~~ __questions__ answered.\n",
       "* 21 were answers to requestions.\n",
       "* The other fields included:\n",
       "    \n",
       "    > _If there an official course webpage, please list it here:_\n",
       "    > \n",
       "    \n",
       "    > _If your course materials are publicly available online, please include the URL:_\n",
       "    > \n",
       "    \n",
       "    > _Please indicate which of the following Jupyter/IPython tools your class is utilizing:_\n",
       "    > \n",
       "    \n",
       "* `125` responses were recieved."
      ],
      "text/plain": [
       "<IPython.core.display.Markdown object>"
      ]
     },
     "metadata": {},
     "output_type": "display_data"
    }
   ],
   "source": [
    "%%md \n",
    "\n",
    "# data 'bout the data\n",
    "\n",
    "* There are at most `{{second(df.shape)}}` ~~columns~~ __questions__ answered.\n",
    "* {{_X(df.columns).filter(_X()[flip(contains)]('?').f).list.len.f()}} were answers to requestions.\n",
    "* The other fields included:\n",
    "    {% for r in _X(df.columns).filter(_X()[complement(flip(contains))]('?').f).list.f() %}\n",
    "    > _{{r}}_\n",
    "    > \n",
    "    {% endfor %}\n",
    "* `{{first(df.shape)}}` responses were recieved."
   ]
  },
  {
   "cell_type": "code",
   "execution_count": 8,
   "metadata": {
    "collapsed": false
   },
   "outputs": [],
   "source": [
    "jipy_tools = (_X(df['Please indicate which of the following Jupyter/IPython tools your class is utilizing:']).list\n",
    " * (lambda s: s.split(', ')) * (lambda x: {k: 1 for k in x}) | list | pd.DataFrame | this().set_index(df.index).fillna(0).f\n",
    "); jipydf = jipy_tools.f()"
   ]
  },
  {
   "cell_type": "code",
   "execution_count": 9,
   "metadata": {
    "collapsed": false
   },
   "outputs": [
    {
     "data": {
      "text/markdown": [
       "\n",
       "* There are `7` Jupyter/IPython tools:\n",
       " > <table border=\"1\" class=\"dataframe\">\n",
       "  <thead>\n",
       "    <tr style=\"text-align: right;\">\n",
       "      <th></th>\n",
       "      <th>Jupyter notebook</th>\n",
       "      <th>nbconvert</th>\n",
       "      <th>JupyterHub</th>\n",
       "      <th>Interactive widgets</th>\n",
       "      <th>IPython terminal</th>\n",
       "      <th>nbgrader</th>\n",
       "      <th>IPython parallel</th>\n",
       "    </tr>\n",
       "  </thead>\n",
       "  <tbody>\n",
       "    <tr>\n",
       "      <th>﹪ of responses</th>\n",
       "      <td>98.4</td>\n",
       "      <td>25.6</td>\n",
       "      <td>20.8</td>\n",
       "      <td>20.0</td>\n",
       "      <td>19.2</td>\n",
       "      <td>10.4</td>\n",
       "      <td>1.6</td>\n",
       "    </tr>\n",
       "  </tbody>\n",
       "</table>\n",
       "* Correlation between the tools used:\n",
       " > <table border=\"1\" class=\"dataframe\">\n",
       "  <thead>\n",
       "    <tr style=\"text-align: right;\">\n",
       "      <th></th>\n",
       "      <th>IPython parallel</th>\n",
       "      <th>IPython terminal</th>\n",
       "      <th>Interactive widgets</th>\n",
       "      <th>Jupyter notebook</th>\n",
       "      <th>JupyterHub</th>\n",
       "      <th>nbconvert</th>\n",
       "      <th>nbgrader</th>\n",
       "    </tr>\n",
       "  </thead>\n",
       "  <tbody>\n",
       "    <tr>\n",
       "      <th>IPython parallel</th>\n",
       "      <td>1.000000</td>\n",
       "      <td>0.099714</td>\n",
       "      <td>-0.063758</td>\n",
       "      <td>0.016260</td>\n",
       "      <td>-0.065348</td>\n",
       "      <td>0.217385</td>\n",
       "      <td>-0.043444</td>\n",
       "    </tr>\n",
       "    <tr>\n",
       "      <th>IPython terminal</th>\n",
       "      <td>0.099714</td>\n",
       "      <td>1.000000</td>\n",
       "      <td>-0.040622</td>\n",
       "      <td>-0.261588</td>\n",
       "      <td>-0.049642</td>\n",
       "      <td>0.179459</td>\n",
       "      <td>0.033535</td>\n",
       "    </tr>\n",
       "    <tr>\n",
       "      <th>Interactive widgets</th>\n",
       "      <td>-0.063758</td>\n",
       "      <td>-0.040622</td>\n",
       "      <td>1.000000</td>\n",
       "      <td>0.063758</td>\n",
       "      <td>0.088697</td>\n",
       "      <td>0.027496</td>\n",
       "      <td>0.222761</td>\n",
       "    </tr>\n",
       "    <tr>\n",
       "      <th>Jupyter notebook</th>\n",
       "      <td>0.016260</td>\n",
       "      <td>-0.261588</td>\n",
       "      <td>0.063758</td>\n",
       "      <td>1.000000</td>\n",
       "      <td>0.065348</td>\n",
       "      <td>0.074799</td>\n",
       "      <td>0.043444</td>\n",
       "    </tr>\n",
       "    <tr>\n",
       "      <th>JupyterHub</th>\n",
       "      <td>-0.065348</td>\n",
       "      <td>-0.049642</td>\n",
       "      <td>0.088697</td>\n",
       "      <td>0.065348</td>\n",
       "      <td>1.000000</td>\n",
       "      <td>-0.029627</td>\n",
       "      <td>0.535666</td>\n",
       "    </tr>\n",
       "    <tr>\n",
       "      <th>nbconvert</th>\n",
       "      <td>0.217385</td>\n",
       "      <td>0.179459</td>\n",
       "      <td>0.027496</td>\n",
       "      <td>0.074799</td>\n",
       "      <td>-0.029627</td>\n",
       "      <td>1.000000</td>\n",
       "      <td>0.040354</td>\n",
       "    </tr>\n",
       "    <tr>\n",
       "      <th>nbgrader</th>\n",
       "      <td>-0.043444</td>\n",
       "      <td>0.033535</td>\n",
       "      <td>0.222761</td>\n",
       "      <td>0.043444</td>\n",
       "      <td>0.535666</td>\n",
       "      <td>0.040354</td>\n",
       "      <td>1.000000</td>\n",
       "    </tr>\n",
       "  </tbody>\n",
       "</table>\n",
       "* Project Jupyter is favored heavily for entry-level classes.\n",
       " > <table border=\"1\" class=\"dataframe\">\n",
       "  <thead>\n",
       "    <tr style=\"text-align: right;\">\n",
       "      <th></th>\n",
       "      <th>％ of responses</th>\n",
       "    </tr>\n",
       "  </thead>\n",
       "  <tbody>\n",
       "    <tr>\n",
       "      <th>Complete novice (no experience)</th>\n",
       "      <td>42.4</td>\n",
       "    </tr>\n",
       "    <tr>\n",
       "      <th>Novice (~1 semester of experience)</th>\n",
       "      <td>28.8</td>\n",
       "    </tr>\n",
       "    <tr>\n",
       "      <th>Intermediate (a year of experience)</th>\n",
       "      <td>24.0</td>\n",
       "    </tr>\n",
       "    <tr>\n",
       "      <th>Advanced (2-3 years of experience)</th>\n",
       "      <td>4.8</td>\n",
       "    </tr>\n",
       "  </tbody>\n",
       "</table>"
      ],
      "text/plain": [
       "<IPython.core.display.Markdown object>"
      ]
     },
     "metadata": {},
     "output_type": "display_data"
    }
   ],
   "source": [
    "%%md \n",
    "\n",
    "* There are `{{second(jipydf.shape)}}` Jupyter/IPython tools:\n",
    " > {{(100*jipydf.sum().sort_values(ascending=False)/len(df)).to_frame('﹪ of responses').transpose().to_html()}}\n",
    "* Correlation between the tools used:\n",
    " > {{jipydf.corr().to_html()}}\n",
    "* Project Jupyter is favored heavily for entry-level classes.\n",
    " > {{(100*df['What is the minimum level of programming experience that your students are expected to be at?'].value_counts()/len(df)).to_frame('％ of responses').to_html()}}"
   ]
  },
  {
   "cell_type": "code",
   "execution_count": 10,
   "metadata": {
    "collapsed": true
   },
   "outputs": [],
   "source": [
    "@curry\n",
    "def replace_strs(args, s):\n",
    "    for arg in args: s = s.lower().replace(arg[0], arg[1])\n",
    "    return s"
   ]
  },
  {
   "cell_type": "code",
   "execution_count": 11,
   "metadata": {
    "collapsed": false
   },
   "outputs": [],
   "source": [
    "class_sizes = pd.Series([1]*len(df), \n",
    "          index=_X(df['Approximately how many students are in your class?'].tolist()).zip(jipydf.index) | list > pd.MultiIndex.from_tuples\n",
    "         ).unstack(1).fillna(0)\n",
    "class_sizes.columns = _X(class_sizes.columns) * replace_strs([('100', \"💯\"), ('500', \"💯𝑥⓹\")]) > list"
   ]
  },
  {
   "cell_type": "markdown",
   "metadata": {},
   "source": [
    "* The tools are used by small, medium, and large classrooms."
   ]
  },
  {
   "cell_type": "code",
   "execution_count": 12,
   "metadata": {
    "collapsed": false
   },
   "outputs": [
    {
     "data": {
      "text/html": [
       "<div>\n",
       "<table border=\"1\" class=\"dataframe\">\n",
       "  <thead>\n",
       "    <tr style=\"text-align: right;\">\n",
       "      <th></th>\n",
       "      <th>10 - 25</th>\n",
       "      <th>25 - 50</th>\n",
       "      <th>50 - 💯</th>\n",
       "      <th>less than 10</th>\n",
       "      <th>250 - 💯𝑥⓹</th>\n",
       "      <th>more than 💯𝑥⓹</th>\n",
       "      <th>💯 - 250</th>\n",
       "    </tr>\n",
       "  </thead>\n",
       "  <tbody>\n",
       "    <tr>\n",
       "      <th>count</th>\n",
       "      <td>50.0</td>\n",
       "      <td>35.0</td>\n",
       "      <td>13.0</td>\n",
       "      <td>9.0</td>\n",
       "      <td>7.0</td>\n",
       "      <td>6.0</td>\n",
       "      <td>5.0</td>\n",
       "    </tr>\n",
       "  </tbody>\n",
       "</table>\n",
       "</div>"
      ],
      "text/plain": [
       "       10 - 25  25 - 50  50 - 💯  less than 10  250 - 💯𝑥⓹  more than 💯𝑥⓹  \\\n",
       "count     50.0     35.0    13.0           9.0        7.0            6.0   \n",
       "\n",
       "       💯 - 250  \n",
       "count      5.0  "
      ]
     },
     "execution_count": 12,
     "metadata": {},
     "output_type": "execute_result"
    }
   ],
   "source": [
    "class_sizes.sum().sort_values(ascending=False).to_frame('count').transpose()"
   ]
  },
  {
   "cell_type": "code",
   "execution_count": 13,
   "metadata": {
    "collapsed": false
   },
   "outputs": [
    {
     "data": {
      "text/markdown": [
       "\n",
       "* Counts of `classroom sizes` using each tool.\n",
       "\n",
       "<table border=\"1\" class=\"dataframe\">\n",
       "  <thead>\n",
       "    <tr style=\"text-align: right;\">\n",
       "      <th></th>\n",
       "      <th>10 - 25</th>\n",
       "      <th>💯 - 250</th>\n",
       "      <th>25 - 50</th>\n",
       "      <th>250 - 💯𝑥⓹</th>\n",
       "      <th>50 - 💯</th>\n",
       "      <th>less than 10</th>\n",
       "      <th>more than 💯𝑥⓹</th>\n",
       "    </tr>\n",
       "  </thead>\n",
       "  <tbody>\n",
       "    <tr>\n",
       "      <th>IPython parallel</th>\n",
       "      <td>1</td>\n",
       "      <td>0</td>\n",
       "      <td>0</td>\n",
       "      <td>0</td>\n",
       "      <td>1</td>\n",
       "      <td>0</td>\n",
       "      <td>0</td>\n",
       "    </tr>\n",
       "    <tr>\n",
       "      <th>IPython terminal</th>\n",
       "      <td>11</td>\n",
       "      <td>0</td>\n",
       "      <td>5</td>\n",
       "      <td>0</td>\n",
       "      <td>5</td>\n",
       "      <td>3</td>\n",
       "      <td>0</td>\n",
       "    </tr>\n",
       "    <tr>\n",
       "      <th>Interactive widgets</th>\n",
       "      <td>10</td>\n",
       "      <td>1</td>\n",
       "      <td>6</td>\n",
       "      <td>1</td>\n",
       "      <td>5</td>\n",
       "      <td>2</td>\n",
       "      <td>0</td>\n",
       "    </tr>\n",
       "    <tr>\n",
       "      <th>Jupyter notebook</th>\n",
       "      <td>49</td>\n",
       "      <td>5</td>\n",
       "      <td>34</td>\n",
       "      <td>7</td>\n",
       "      <td>13</td>\n",
       "      <td>9</td>\n",
       "      <td>6</td>\n",
       "    </tr>\n",
       "    <tr>\n",
       "      <th>JupyterHub</th>\n",
       "      <td>4</td>\n",
       "      <td>2</td>\n",
       "      <td>7</td>\n",
       "      <td>2</td>\n",
       "      <td>5</td>\n",
       "      <td>5</td>\n",
       "      <td>1</td>\n",
       "    </tr>\n",
       "    <tr>\n",
       "      <th>nbconvert</th>\n",
       "      <td>15</td>\n",
       "      <td>2</td>\n",
       "      <td>4</td>\n",
       "      <td>3</td>\n",
       "      <td>5</td>\n",
       "      <td>3</td>\n",
       "      <td>0</td>\n",
       "    </tr>\n",
       "    <tr>\n",
       "      <th>nbgrader</th>\n",
       "      <td>2</td>\n",
       "      <td>1</td>\n",
       "      <td>5</td>\n",
       "      <td>1</td>\n",
       "      <td>3</td>\n",
       "      <td>0</td>\n",
       "      <td>1</td>\n",
       "    </tr>\n",
       "  </tbody>\n",
       "</table>"
      ],
      "text/plain": [
       "<IPython.core.display.Markdown object>"
      ]
     },
     "metadata": {},
     "output_type": "display_data"
    }
   ],
   "source": [
    "%%md\n",
    "\n",
    "* Counts of `classroom sizes` using each tool.\n",
    "\n",
    "{{(pd.DataFrame(class_sizes.transpose().values.__matmul__(jipydf.values), index=class_sizes.columns, columns=jipydf.columns)).transpose().astype(int).to_html()}}"
   ]
  },
  {
   "cell_type": "code",
   "execution_count": 14,
   "metadata": {
    "collapsed": false
   },
   "outputs": [],
   "source": [
    "class_levels = _X(df['What level of education is your course?'].apply(lambda s: s.replace(\n",
    "        'Mixed (conferences, workshops, Software Carpentry style events, etc.)', 'Mixed',\n",
    "    )).apply(lambda s: s.split(', ')).tolist()).map(lambda x: {k: 1 for k in x}).list[\n",
    "    pd.DataFrame](index=df.index)[this().fillna(0).f].f()"
   ]
  },
  {
   "cell_type": "code",
   "execution_count": 15,
   "metadata": {
    "collapsed": false
   },
   "outputs": [
    {
     "data": {
      "text/markdown": [
       "* A look at the classroom levels that Jupyter is used in.\n",
       "> <table border=\"1\" class=\"dataframe\">\n",
       "  <thead>\n",
       "    <tr style=\"text-align: right;\">\n",
       "      <th></th>\n",
       "      <th>Advanced undergraduate (juniors and seniors)</th>\n",
       "      <th>Graduate</th>\n",
       "      <th>Intermediate undergraduate (sophmores and juniors)</th>\n",
       "      <th>Introductory undergraduate (freshman and sophmores)</th>\n",
       "      <th>Mixed</th>\n",
       "      <th>MOOC</th>\n",
       "      <th>High school (ages 14-18)</th>\n",
       "      <th>Colleagues</th>\n",
       "      <th>Community college</th>\n",
       "      <th>Corporate Training</th>\n",
       "      <th>Course for Master students and PhD students</th>\n",
       "      <th>PhD</th>\n",
       "      <th>PhD level</th>\n",
       "      <th>Postdoc</th>\n",
       "      <th>Postgraduate</th>\n",
       "      <th>senior researchers</th>\n",
       "    </tr>\n",
       "  </thead>\n",
       "  <tbody>\n",
       "    <tr>\n",
       "      <th>👻👹👾</th>\n",
       "      <td>52.0</td>\n",
       "      <td>37.0</td>\n",
       "      <td>31.0</td>\n",
       "      <td>22.0</td>\n",
       "      <td>14.0</td>\n",
       "      <td>4.0</td>\n",
       "      <td>3.0</td>\n",
       "      <td>1.0</td>\n",
       "      <td>1.0</td>\n",
       "      <td>1.0</td>\n",
       "      <td>1.0</td>\n",
       "      <td>1.0</td>\n",
       "      <td>1.0</td>\n",
       "      <td>1.0</td>\n",
       "      <td>1.0</td>\n",
       "      <td>1.0</td>\n",
       "    </tr>\n",
       "  </tbody>\n",
       "</table>"
      ],
      "text/plain": [
       "<IPython.core.display.Markdown object>"
      ]
     },
     "metadata": {},
     "output_type": "display_data"
    }
   ],
   "source": [
    "%%md \n",
    "* A look at the classroom levels that Jupyter is used in.\n",
    "> {{class_levels.sum().to_frame('👻👹👾').sort_values('👻👹👾', ascending=False).transpose().to_html()}}"
   ]
  },
  {
   "cell_type": "code",
   "execution_count": 16,
   "metadata": {
    "collapsed": false
   },
   "outputs": [],
   "source": [
    "subjects = (_X(df['What field(s) is your course most related to?'].tolist())\n",
    " * (lambda s: s.split(', ')) * (lambda x: {k: 1 for k in x}) | list\n",
    ")[pd.DataFrame](index=df.index)[this().fillna(0).f] > identity\n",
    "\n",
    "subjects.columns = (_X(subjects.columns) * replace_strs([(' engineering', \"🚂🏢✈️\"), (' science', \"🔭💊🔬\"), ('space', \"👽\")])\n",
    " > list)"
   ]
  },
  {
   "cell_type": "code",
   "execution_count": 17,
   "metadata": {
    "collapsed": false
   },
   "outputs": [
    {
     "data": {
      "text/markdown": [
       "\n",
       "Project Jupyter appears is used in `37` different subjects\n",
       "\n",
       "> <table border=\"1\" class=\"dataframe\">\n",
       "  <thead>\n",
       "    <tr style=\"text-align: right;\">\n",
       "      <th></th>\n",
       "      <th>computer🔭💊🔬</th>\n",
       "      <th>data🔭💊🔬</th>\n",
       "      <th>physics</th>\n",
       "      <th>biology</th>\n",
       "      <th>mathematics</th>\n",
       "      <th>statistics</th>\n",
       "      <th>machine learning</th>\n",
       "      <th>electrical🚂🏢✈️</th>\n",
       "      <th>earth🔭💊🔬</th>\n",
       "      <th>chemistry</th>\n",
       "      <th>mechanical🚂🏢✈️</th>\n",
       "      <th>planetary/👽🔭💊🔬</th>\n",
       "      <th>psychology</th>\n",
       "      <th>economics</th>\n",
       "      <th>literature</th>\n",
       "      <th>sociology</th>\n",
       "      <th>history</th>\n",
       "      <th>geography</th>\n",
       "      <th>environmental🔭💊🔬</th>\n",
       "      <th>chemical and biological🚂🏢✈️</th>\n",
       "      <th>civil🚂🏢✈️</th>\n",
       "      <th>chemical🚂🏢✈️</th>\n",
       "      <th>arts</th>\n",
       "      <th>astrophysics</th>\n",
       "      <th>library🔭💊🔬</th>\n",
       "      <th>finance</th>\n",
       "      <th>general elementary data &amp; programming skills</th>\n",
       "      <th>journalism</th>\n",
       "      <th>telecommunication</th>\n",
       "      <th>linguistics</th>\n",
       "      <th>materials🚂🏢✈️</th>\n",
       "      <th>medicine</th>\n",
       "      <th>political🔭💊🔬</th>\n",
       "      <th>robotics</th>\n",
       "      <th>signal processing</th>\n",
       "      <th>software🚂🏢✈️</th>\n",
       "      <th>artificial intelligence</th>\n",
       "    </tr>\n",
       "  </thead>\n",
       "  <tbody>\n",
       "    <tr>\n",
       "      <th>subjects</th>\n",
       "      <td>49.0</td>\n",
       "      <td>32.0</td>\n",
       "      <td>31.0</td>\n",
       "      <td>22.0</td>\n",
       "      <td>19.0</td>\n",
       "      <td>17.0</td>\n",
       "      <td>13.0</td>\n",
       "      <td>9.0</td>\n",
       "      <td>9.0</td>\n",
       "      <td>7.0</td>\n",
       "      <td>6.0</td>\n",
       "      <td>6.0</td>\n",
       "      <td>5.0</td>\n",
       "      <td>4.0</td>\n",
       "      <td>3.0</td>\n",
       "      <td>2.0</td>\n",
       "      <td>2.0</td>\n",
       "      <td>2.0</td>\n",
       "      <td>1.0</td>\n",
       "      <td>1.0</td>\n",
       "      <td>1.0</td>\n",
       "      <td>1.0</td>\n",
       "      <td>1.0</td>\n",
       "      <td>1.0</td>\n",
       "      <td>1.0</td>\n",
       "      <td>1.0</td>\n",
       "      <td>1.0</td>\n",
       "      <td>1.0</td>\n",
       "      <td>1.0</td>\n",
       "      <td>1.0</td>\n",
       "      <td>1.0</td>\n",
       "      <td>1.0</td>\n",
       "      <td>1.0</td>\n",
       "      <td>1.0</td>\n",
       "      <td>1.0</td>\n",
       "      <td>1.0</td>\n",
       "      <td>1.0</td>\n",
       "    </tr>\n",
       "  </tbody>\n",
       "</table>"
      ],
      "text/plain": [
       "<IPython.core.display.Markdown object>"
      ]
     },
     "metadata": {},
     "output_type": "display_data"
    }
   ],
   "source": [
    "%%md\n",
    "\n",
    "Project Jupyter appears is used in `{{second(subjects.shape)}}` different subjects\n",
    "\n",
    "> {{subjects.sum().sort_values(ascending=False).to_frame('subjects').transpose().to_html()}}"
   ]
  },
  {
   "cell_type": "code",
   "execution_count": 18,
   "metadata": {
    "collapsed": false
   },
   "outputs": [
    {
     "data": {
      "text/html": [
       "\n",
       "\n",
       "    <div class=\"bk-root\">\n",
       "        <div class=\"plotdiv\" id=\"1158915a-fab6-4390-87a3-c40248e6357f\"></div>\n",
       "    </div>\n",
       "<script type=\"text/javascript\">\n",
       "  \n",
       "  (function(global) {\n",
       "    function now() {\n",
       "      return new Date();\n",
       "    }\n",
       "  \n",
       "    if (typeof (window._bokeh_onload_callbacks) === \"undefined\") {\n",
       "      window._bokeh_onload_callbacks = [];\n",
       "    }\n",
       "  \n",
       "    function run_callbacks() {\n",
       "      window._bokeh_onload_callbacks.forEach(function(callback) { callback() });\n",
       "      delete window._bokeh_onload_callbacks\n",
       "      console.info(\"Bokeh: all callbacks have finished\");\n",
       "    }\n",
       "  \n",
       "    function load_libs(js_urls, callback) {\n",
       "      window._bokeh_onload_callbacks.push(callback);\n",
       "      if (window._bokeh_is_loading > 0) {\n",
       "        console.log(\"Bokeh: BokehJS is being loaded, scheduling callback at\", now());\n",
       "        return null;\n",
       "      }\n",
       "      if (js_urls == null || js_urls.length === 0) {\n",
       "        run_callbacks();\n",
       "        return null;\n",
       "      }\n",
       "      console.log(\"Bokeh: BokehJS not loaded, scheduling load and callback at\", now());\n",
       "      window._bokeh_is_loading = js_urls.length;\n",
       "      for (var i = 0; i < js_urls.length; i++) {\n",
       "        var url = js_urls[i];\n",
       "        var s = document.createElement('script');\n",
       "        s.src = url;\n",
       "        s.async = false;\n",
       "        s.onreadystatechange = s.onload = function() {\n",
       "          window._bokeh_is_loading--;\n",
       "          if (window._bokeh_is_loading === 0) {\n",
       "            console.log(\"Bokeh: all BokehJS libraries loaded\");\n",
       "            run_callbacks()\n",
       "          }\n",
       "        };\n",
       "        s.onerror = function() {\n",
       "          console.warn(\"failed to load library \" + url);\n",
       "        };\n",
       "        console.log(\"Bokeh: injecting script tag for BokehJS library: \", url);\n",
       "        document.getElementsByTagName(\"head\")[0].appendChild(s);\n",
       "      }\n",
       "    };var element = document.getElementById(\"1158915a-fab6-4390-87a3-c40248e6357f\");\n",
       "    if (element == null) {\n",
       "      console.log(\"Bokeh: ERROR: autoload.js configured with elementid '1158915a-fab6-4390-87a3-c40248e6357f' but no matching script tag was found. \")\n",
       "      return false;\n",
       "    }\n",
       "  \n",
       "    var js_urls = [];\n",
       "  \n",
       "    var inline_js = [\n",
       "      function(Bokeh) {\n",
       "        Bokeh.$(function() {\n",
       "            var docs_json = {\"ed9eccb6-de35-4e90-acac-25cffffa3c0b\":{\"roots\":{\"references\":[{\"attributes\":{\"data_source\":{\"id\":\"c95d0c4c-3e25-46e5-b5ff-319672a8afd1\",\"type\":\"ColumnDataSource\"},\"glyph\":{\"id\":\"6e17c7f6-6ac5-48d5-8152-010e73aa793a\",\"type\":\"Rect\"},\"hover_glyph\":null,\"nonselection_glyph\":null,\"selection_glyph\":null},\"id\":\"2231b701-2b13-4758-bea1-13dab5fc8ee1\",\"type\":\"GlyphRenderer\"},{\"attributes\":{\"data_source\":{\"id\":\"89201bf8-71dc-4d78-8973-d7636a9b6dde\",\"type\":\"ColumnDataSource\"},\"glyph\":{\"id\":\"1b1ddf41-41a8-4697-a013-dba6493e71ff\",\"type\":\"Rect\"},\"hover_glyph\":null,\"nonselection_glyph\":null,\"selection_glyph\":null},\"id\":\"5ef36b7c-94f7-4a6a-b011-9d8fa4de7fd8\",\"type\":\"GlyphRenderer\"},{\"attributes\":{\"callback\":null,\"column_names\":[\"line_color\",\"height\",\"width\",\"color\",\"line_alpha\",\"fill_alpha\",\"label\",\"y\",\"x\"],\"data\":{\"chart_index\":[{\"index\":\"psychology\"}],\"color\":[\"#f22c40\"],\"fill_alpha\":[0.8],\"height\":[5.0],\"index\":[\"psychology\"],\"label\":[{\"index\":\"psychology\"}],\"line_alpha\":[1.0],\"line_color\":[\"white\"],\"width\":[0.8],\"x\":[\"psychology\"],\"y\":[2.5]}},\"id\":\"14f01491-ff37-4789-bd42-9424c99fba6a\",\"type\":\"ColumnDataSource\"},{\"attributes\":{\"callback\":null,\"column_names\":[\"line_color\",\"height\",\"width\",\"color\",\"line_alpha\",\"fill_alpha\",\"label\",\"y\",\"x\"],\"data\":{\"chart_index\":[{\"index\":\"planetary/\\ud83d\\udc7d\\ud83d\\udd2d\\ud83d\\udc8a\\ud83d\\udd2c\"}],\"color\":[\"#f22c40\"],\"fill_alpha\":[0.8],\"height\":[6.0],\"index\":[\"planetary/\\ud83d\\udc7d\\ud83d\\udd2d\\ud83d\\udc8a\\ud83d\\udd2c\"],\"label\":[{\"index\":\"planetary/\\ud83d\\udc7d\\ud83d\\udd2d\\ud83d\\udc8a\\ud83d\\udd2c\"}],\"line_alpha\":[1.0],\"line_color\":[\"white\"],\"width\":[0.8],\"x\":[\"planetary/\\ud83d\\udc7d\\ud83d\\udd2d\\ud83d\\udc8a\\ud83d\\udd2c\"],\"y\":[3.0]}},\"id\":\"2a1d36fc-ad3e-49b1-8ee9-d30969e6ea73\",\"type\":\"ColumnDataSource\"},{\"attributes\":{\"plot\":null,\"text\":null},\"id\":\"03c10215-5b8d-4dcb-a87e-204f150f2724\",\"type\":\"Title\"},{\"attributes\":{\"fill_alpha\":{\"field\":\"fill_alpha\"},\"fill_color\":{\"field\":\"color\"},\"height\":{\"field\":\"height\",\"units\":\"data\"},\"line_color\":{\"field\":\"line_color\"},\"width\":{\"field\":\"width\",\"units\":\"data\"},\"x\":{\"field\":\"x\"},\"y\":{\"field\":\"y\"}},\"id\":\"e3ef37e7-b72e-44c7-af86-ba06e83c2995\",\"type\":\"Rect\"},{\"attributes\":{\"data_source\":{\"id\":\"14f01491-ff37-4789-bd42-9424c99fba6a\",\"type\":\"ColumnDataSource\"},\"glyph\":{\"id\":\"dc83739b-b52a-495a-b408-8b3e514ef700\",\"type\":\"Rect\"},\"hover_glyph\":null,\"nonselection_glyph\":null,\"selection_glyph\":null},\"id\":\"82b73b11-d5d2-43e9-9c76-190a75f28638\",\"type\":\"GlyphRenderer\"},{\"attributes\":{\"axis_label\":\"Sum( Subjects )\",\"formatter\":{\"id\":\"2283987d-2745-4c26-8119-9d05cda73c83\",\"type\":\"BasicTickFormatter\"},\"plot\":{\"id\":\"92acd92e-826f-436c-81c4-9d290d190469\",\"subtype\":\"Chart\",\"type\":\"Plot\"},\"ticker\":{\"id\":\"3313417e-30e0-4e72-ac25-438e48e73bb0\",\"type\":\"BasicTicker\"}},\"id\":\"84239561-a3b6-470d-b6bc-364c77bf7c12\",\"type\":\"LinearAxis\"},{\"attributes\":{\"fill_alpha\":{\"field\":\"fill_alpha\"},\"fill_color\":{\"field\":\"color\"},\"height\":{\"field\":\"height\",\"units\":\"data\"},\"line_color\":{\"field\":\"line_color\"},\"width\":{\"field\":\"width\",\"units\":\"data\"},\"x\":{\"field\":\"x\"},\"y\":{\"field\":\"y\"}},\"id\":\"6ebb6e22-d445-44b9-8efd-288986dbc052\",\"type\":\"Rect\"},{\"attributes\":{\"plot\":{\"id\":\"92acd92e-826f-436c-81c4-9d290d190469\",\"subtype\":\"Chart\",\"type\":\"Plot\"}},\"id\":\"2d75492f-0b87-4779-8995-25a8d3b33a98\",\"type\":\"SaveTool\"},{\"attributes\":{\"active_drag\":\"auto\",\"active_scroll\":\"auto\",\"active_tap\":\"auto\",\"tools\":[{\"id\":\"887f2746-c884-47ee-812f-e90bb3188780\",\"type\":\"PanTool\"},{\"id\":\"a5759b8a-d39e-4bbd-b841-a0c4f6efd0d7\",\"type\":\"WheelZoomTool\"},{\"id\":\"9d83ff42-d005-4b40-8298-d6f0a34d6560\",\"type\":\"BoxZoomTool\"},{\"id\":\"2d75492f-0b87-4779-8995-25a8d3b33a98\",\"type\":\"SaveTool\"},{\"id\":\"2b1794f4-d0bf-489c-b0cc-9b376e874b6b\",\"type\":\"ResetTool\"},{\"id\":\"6fb2fdaf-f8cc-44f2-bcd1-0f8e49961b2b\",\"type\":\"HelpTool\"}]},\"id\":\"0774c725-4f98-419f-ba50-8a766dc055d1\",\"type\":\"Toolbar\"},{\"attributes\":{\"callback\":null,\"column_names\":[\"line_color\",\"height\",\"width\",\"color\",\"line_alpha\",\"fill_alpha\",\"label\",\"y\",\"x\"],\"data\":{\"chart_index\":[{\"index\":\"journalism\"}],\"color\":[\"#f22c40\"],\"fill_alpha\":[0.8],\"height\":[1.0],\"index\":[\"journalism\"],\"label\":[{\"index\":\"journalism\"}],\"line_alpha\":[1.0],\"line_color\":[\"white\"],\"width\":[0.8],\"x\":[\"journalism\"],\"y\":[0.5]}},\"id\":\"e2ec7ea3-bc2f-44ff-8f1d-e9953f2f7aea\",\"type\":\"ColumnDataSource\"},{\"attributes\":{\"callback\":null,\"column_names\":[\"line_color\",\"height\",\"width\",\"color\",\"line_alpha\",\"fill_alpha\",\"label\",\"y\",\"x\"],\"data\":{\"chart_index\":[{\"index\":\"mathematics\"}],\"color\":[\"#f22c40\"],\"fill_alpha\":[0.8],\"height\":[19.0],\"index\":[\"mathematics\"],\"label\":[{\"index\":\"mathematics\"}],\"line_alpha\":[1.0],\"line_color\":[\"white\"],\"width\":[0.8],\"x\":[\"mathematics\"],\"y\":[9.5]}},\"id\":\"a956da89-a75c-41f2-9151-fbb63588621d\",\"type\":\"ColumnDataSource\"},{\"attributes\":{\"fill_alpha\":{\"field\":\"fill_alpha\"},\"fill_color\":{\"field\":\"color\"},\"height\":{\"field\":\"height\",\"units\":\"data\"},\"line_color\":{\"field\":\"line_color\"},\"width\":{\"field\":\"width\",\"units\":\"data\"},\"x\":{\"field\":\"x\"},\"y\":{\"field\":\"y\"}},\"id\":\"280852db-9046-408b-9828-c9429161dd8e\",\"type\":\"Rect\"},{\"attributes\":{\"bottom_units\":\"screen\",\"fill_alpha\":{\"value\":0.5},\"fill_color\":{\"value\":\"lightgrey\"},\"left_units\":\"screen\",\"level\":\"overlay\",\"line_alpha\":{\"value\":1.0},\"line_color\":{\"value\":\"black\"},\"line_dash\":[4,4],\"line_width\":{\"value\":2},\"plot\":null,\"render_mode\":\"css\",\"right_units\":\"screen\",\"top_units\":\"screen\"},\"id\":\"690506dd-a17d-49a2-b6d2-334c7a5af3a5\",\"type\":\"BoxAnnotation\"},{\"attributes\":{\"data_source\":{\"id\":\"458f185f-d4f3-408e-8e85-5605528613f9\",\"type\":\"ColumnDataSource\"},\"glyph\":{\"id\":\"b17a975a-fef2-4672-84e6-35cac3005965\",\"type\":\"Rect\"},\"hover_glyph\":null,\"nonselection_glyph\":null,\"selection_glyph\":null},\"id\":\"c3878d51-babc-49a4-af7c-558bab359df9\",\"type\":\"GlyphRenderer\"},{\"attributes\":{\"data_source\":{\"id\":\"d455bc8c-d2c3-4218-852e-4dbb60575446\",\"type\":\"ColumnDataSource\"},\"glyph\":{\"id\":\"be44ca18-3d57-4104-9454-d3b2d90560f0\",\"type\":\"Rect\"},\"hover_glyph\":null,\"nonselection_glyph\":null,\"selection_glyph\":null},\"id\":\"17fb28be-3518-49ee-a567-894b882893c8\",\"type\":\"GlyphRenderer\"},{\"attributes\":{\"data_source\":{\"id\":\"14208991-9ab5-4033-91db-506029f794a4\",\"type\":\"ColumnDataSource\"},\"glyph\":{\"id\":\"96e48d56-9568-4d0a-80a8-37e419f1884f\",\"type\":\"Rect\"},\"hover_glyph\":null,\"nonselection_glyph\":null,\"selection_glyph\":null},\"id\":\"315cf33d-a326-4c42-8937-ac72089e2244\",\"type\":\"GlyphRenderer\"},{\"attributes\":{\"plot\":{\"id\":\"92acd92e-826f-436c-81c4-9d290d190469\",\"subtype\":\"Chart\",\"type\":\"Plot\"}},\"id\":\"a5759b8a-d39e-4bbd-b841-a0c4f6efd0d7\",\"type\":\"WheelZoomTool\"},{\"attributes\":{\"callback\":null,\"column_names\":[\"line_color\",\"height\",\"width\",\"color\",\"line_alpha\",\"fill_alpha\",\"label\",\"y\",\"x\"],\"data\":{\"chart_index\":[{\"index\":\"biology\"}],\"color\":[\"#f22c40\"],\"fill_alpha\":[0.8],\"height\":[22.0],\"index\":[\"biology\"],\"label\":[{\"index\":\"biology\"}],\"line_alpha\":[1.0],\"line_color\":[\"white\"],\"width\":[0.8],\"x\":[\"biology\"],\"y\":[11.0]}},\"id\":\"8e24c451-af75-4216-8d78-9d0c0dfb0680\",\"type\":\"ColumnDataSource\"},{\"attributes\":{\"data_source\":{\"id\":\"bdfe7724-6003-4d50-920a-51585580efb9\",\"type\":\"ColumnDataSource\"},\"glyph\":{\"id\":\"280852db-9046-408b-9828-c9429161dd8e\",\"type\":\"Rect\"},\"hover_glyph\":null,\"nonselection_glyph\":null,\"selection_glyph\":null},\"id\":\"c5ebb4c4-fa94-4626-b33f-fdfa69433844\",\"type\":\"GlyphRenderer\"},{\"attributes\":{\"data_source\":{\"id\":\"bf33337f-cc66-40c3-bef7-ce4ddcd962e9\",\"type\":\"ColumnDataSource\"},\"glyph\":{\"id\":\"38225732-0e75-49be-8e82-b4ca79c6cd73\",\"type\":\"Rect\"},\"hover_glyph\":null,\"nonselection_glyph\":null,\"selection_glyph\":null},\"id\":\"46f1effc-6ce1-49e9-a4fe-56abfd58e9ff\",\"type\":\"GlyphRenderer\"},{\"attributes\":{\"fill_alpha\":{\"field\":\"fill_alpha\"},\"fill_color\":{\"field\":\"color\"},\"height\":{\"field\":\"height\",\"units\":\"data\"},\"line_color\":{\"field\":\"line_color\"},\"width\":{\"field\":\"width\",\"units\":\"data\"},\"x\":{\"field\":\"x\"},\"y\":{\"field\":\"y\"}},\"id\":\"3c1871d2-a131-4fce-99ac-53ecbfe7ecad\",\"type\":\"Rect\"},{\"attributes\":{\"fill_alpha\":{\"field\":\"fill_alpha\"},\"fill_color\":{\"field\":\"color\"},\"height\":{\"field\":\"height\",\"units\":\"data\"},\"line_color\":{\"field\":\"line_color\"},\"width\":{\"field\":\"width\",\"units\":\"data\"},\"x\":{\"field\":\"x\"},\"y\":{\"field\":\"y\"}},\"id\":\"7296370d-8acf-4b3e-aec6-20cd0c4cdce4\",\"type\":\"Rect\"},{\"attributes\":{\"callback\":null,\"column_names\":[\"line_color\",\"height\",\"width\",\"color\",\"line_alpha\",\"fill_alpha\",\"label\",\"y\",\"x\"],\"data\":{\"chart_index\":[{\"index\":\"medicine\"}],\"color\":[\"#f22c40\"],\"fill_alpha\":[0.8],\"height\":[1.0],\"index\":[\"medicine\"],\"label\":[{\"index\":\"medicine\"}],\"line_alpha\":[1.0],\"line_color\":[\"white\"],\"width\":[0.8],\"x\":[\"medicine\"],\"y\":[0.5]}},\"id\":\"b246ec58-428d-4c2a-a8ff-26d51b050b1b\",\"type\":\"ColumnDataSource\"},{\"attributes\":{\"data_source\":{\"id\":\"75e9e75d-e48c-4a8c-be23-95d99bf4f552\",\"type\":\"ColumnDataSource\"},\"glyph\":{\"id\":\"8f408e3a-6e07-42b9-85cd-74c77bf87e0d\",\"type\":\"Rect\"},\"hover_glyph\":null,\"nonselection_glyph\":null,\"selection_glyph\":null},\"id\":\"d08a8c4b-4dc9-4203-9734-24f0acff3700\",\"type\":\"GlyphRenderer\"},{\"attributes\":{\"data_source\":{\"id\":\"368d90ab-5e08-47fc-bc7f-d78f6e9e8ce3\",\"type\":\"ColumnDataSource\"},\"glyph\":{\"id\":\"8be79d4f-7f29-461f-a113-91a408618613\",\"type\":\"Rect\"},\"hover_glyph\":null,\"nonselection_glyph\":null,\"selection_glyph\":null},\"id\":\"e39ed395-7dc5-403a-b31e-aa6afb472496\",\"type\":\"GlyphRenderer\"},{\"attributes\":{\"fill_alpha\":{\"field\":\"fill_alpha\"},\"fill_color\":{\"field\":\"color\"},\"height\":{\"field\":\"height\",\"units\":\"data\"},\"line_color\":{\"field\":\"line_color\"},\"width\":{\"field\":\"width\",\"units\":\"data\"},\"x\":{\"field\":\"x\"},\"y\":{\"field\":\"y\"}},\"id\":\"102ff1c1-ebfe-4ad2-a1d9-134a8bf7b849\",\"type\":\"Rect\"},{\"attributes\":{\"callback\":null,\"column_names\":[\"line_color\",\"height\",\"width\",\"color\",\"line_alpha\",\"fill_alpha\",\"label\",\"y\",\"x\"],\"data\":{\"chart_index\":[{\"index\":\"political\\ud83d\\udd2d\\ud83d\\udc8a\\ud83d\\udd2c\"}],\"color\":[\"#f22c40\"],\"fill_alpha\":[0.8],\"height\":[1.0],\"index\":[\"political\\ud83d\\udd2d\\ud83d\\udc8a\\ud83d\\udd2c\"],\"label\":[{\"index\":\"political\\ud83d\\udd2d\\ud83d\\udc8a\\ud83d\\udd2c\"}],\"line_alpha\":[1.0],\"line_color\":[\"white\"],\"width\":[0.8],\"x\":[\"political\\ud83d\\udd2d\\ud83d\\udc8a\\ud83d\\udd2c\"],\"y\":[0.5]}},\"id\":\"fd88a137-932d-4654-9f98-c6a6c19206a5\",\"type\":\"ColumnDataSource\"},{\"attributes\":{\"fill_alpha\":{\"field\":\"fill_alpha\"},\"fill_color\":{\"field\":\"color\"},\"height\":{\"field\":\"height\",\"units\":\"data\"},\"line_color\":{\"field\":\"line_color\"},\"width\":{\"field\":\"width\",\"units\":\"data\"},\"x\":{\"field\":\"x\"},\"y\":{\"field\":\"y\"}},\"id\":\"7e7f7852-1e5c-423d-b08a-d736e755f7a7\",\"type\":\"Rect\"},{\"attributes\":{\"fill_alpha\":{\"field\":\"fill_alpha\"},\"fill_color\":{\"field\":\"color\"},\"height\":{\"field\":\"height\",\"units\":\"data\"},\"line_color\":{\"field\":\"line_color\"},\"width\":{\"field\":\"width\",\"units\":\"data\"},\"x\":{\"field\":\"x\"},\"y\":{\"field\":\"y\"}},\"id\":\"2c274ee2-beb0-44d3-b2e5-ef125ec4f2b2\",\"type\":\"Rect\"},{\"attributes\":{\"fill_alpha\":{\"field\":\"fill_alpha\"},\"fill_color\":{\"field\":\"color\"},\"height\":{\"field\":\"height\",\"units\":\"data\"},\"line_color\":{\"field\":\"line_color\"},\"width\":{\"field\":\"width\",\"units\":\"data\"},\"x\":{\"field\":\"x\"},\"y\":{\"field\":\"y\"}},\"id\":\"80f73241-4fe5-4871-87a6-25615997a616\",\"type\":\"Rect\"},{\"attributes\":{\"callback\":null,\"end\":51.45},\"id\":\"d1d01cb9-5a50-4f31-91d0-d40c898b9581\",\"type\":\"Range1d\"},{\"attributes\":{},\"id\":\"63368cdc-0671-4c44-b822-bc9ea2506006\",\"type\":\"ToolEvents\"},{\"attributes\":{\"data_source\":{\"id\":\"b246ec58-428d-4c2a-a8ff-26d51b050b1b\",\"type\":\"ColumnDataSource\"},\"glyph\":{\"id\":\"6ebb6e22-d445-44b9-8efd-288986dbc052\",\"type\":\"Rect\"},\"hover_glyph\":null,\"nonselection_glyph\":null,\"selection_glyph\":null},\"id\":\"5aa2429b-72fe-4144-ab8f-53666c31e4ae\",\"type\":\"GlyphRenderer\"},{\"attributes\":{},\"id\":\"2c9a16f1-d0c8-47c6-9374-b745014c566c\",\"type\":\"CategoricalTicker\"},{\"attributes\":{\"callback\":null,\"column_names\":[\"line_color\",\"height\",\"width\",\"color\",\"line_alpha\",\"fill_alpha\",\"label\",\"y\",\"x\"],\"data\":{\"chart_index\":[{\"index\":\"chemical\\ud83d\\ude82\\ud83c\\udfe2\\u2708\\ufe0f\"}],\"color\":[\"#f22c40\"],\"fill_alpha\":[0.8],\"height\":[1.0],\"index\":[\"chemical\\ud83d\\ude82\\ud83c\\udfe2\\u2708\\ufe0f\"],\"label\":[{\"index\":\"chemical\\ud83d\\ude82\\ud83c\\udfe2\\u2708\\ufe0f\"}],\"line_alpha\":[1.0],\"line_color\":[\"white\"],\"width\":[0.8],\"x\":[\"chemical\\ud83d\\ude82\\ud83c\\udfe2\\u2708\\ufe0f\"],\"y\":[0.5]}},\"id\":\"368d90ab-5e08-47fc-bc7f-d78f6e9e8ce3\",\"type\":\"ColumnDataSource\"},{\"attributes\":{\"fill_alpha\":{\"field\":\"fill_alpha\"},\"fill_color\":{\"field\":\"color\"},\"height\":{\"field\":\"height\",\"units\":\"data\"},\"line_color\":{\"field\":\"line_color\"},\"width\":{\"field\":\"width\",\"units\":\"data\"},\"x\":{\"field\":\"x\"},\"y\":{\"field\":\"y\"}},\"id\":\"6e17c7f6-6ac5-48d5-8152-010e73aa793a\",\"type\":\"Rect\"},{\"attributes\":{\"callback\":null,\"column_names\":[\"line_color\",\"height\",\"width\",\"color\",\"line_alpha\",\"fill_alpha\",\"label\",\"y\",\"x\"],\"data\":{\"chart_index\":[{\"index\":\"linguistics\"}],\"color\":[\"#f22c40\"],\"fill_alpha\":[0.8],\"height\":[1.0],\"index\":[\"linguistics\"],\"label\":[{\"index\":\"linguistics\"}],\"line_alpha\":[1.0],\"line_color\":[\"white\"],\"width\":[0.8],\"x\":[\"linguistics\"],\"y\":[0.5]}},\"id\":\"5d9ac3c1-1d73-4b81-8069-2b2286858d87\",\"type\":\"ColumnDataSource\"},{\"attributes\":{\"callback\":null,\"column_names\":[\"line_color\",\"height\",\"width\",\"color\",\"line_alpha\",\"fill_alpha\",\"label\",\"y\",\"x\"],\"data\":{\"chart_index\":[{\"index\":\"mechanical\\ud83d\\ude82\\ud83c\\udfe2\\u2708\\ufe0f\"}],\"color\":[\"#f22c40\"],\"fill_alpha\":[0.8],\"height\":[6.0],\"index\":[\"mechanical\\ud83d\\ude82\\ud83c\\udfe2\\u2708\\ufe0f\"],\"label\":[{\"index\":\"mechanical\\ud83d\\ude82\\ud83c\\udfe2\\u2708\\ufe0f\"}],\"line_alpha\":[1.0],\"line_color\":[\"white\"],\"width\":[0.8],\"x\":[\"mechanical\\ud83d\\ude82\\ud83c\\udfe2\\u2708\\ufe0f\"],\"y\":[3.0]}},\"id\":\"dc691bab-8e36-4da4-b4ad-d325a897a311\",\"type\":\"ColumnDataSource\"},{\"attributes\":{\"callback\":null,\"column_names\":[\"line_color\",\"height\",\"width\",\"color\",\"line_alpha\",\"fill_alpha\",\"label\",\"y\",\"x\"],\"data\":{\"chart_index\":[{\"index\":\"earth\\ud83d\\udd2d\\ud83d\\udc8a\\ud83d\\udd2c\"}],\"color\":[\"#f22c40\"],\"fill_alpha\":[0.8],\"height\":[9.0],\"index\":[\"earth\\ud83d\\udd2d\\ud83d\\udc8a\\ud83d\\udd2c\"],\"label\":[{\"index\":\"earth\\ud83d\\udd2d\\ud83d\\udc8a\\ud83d\\udd2c\"}],\"line_alpha\":[1.0],\"line_color\":[\"white\"],\"width\":[0.8],\"x\":[\"earth\\ud83d\\udd2d\\ud83d\\udc8a\\ud83d\\udd2c\"],\"y\":[4.5]}},\"id\":\"89201bf8-71dc-4d78-8973-d7636a9b6dde\",\"type\":\"ColumnDataSource\"},{\"attributes\":{\"data_source\":{\"id\":\"f8a5a909-a884-4d64-b615-eca56524710e\",\"type\":\"ColumnDataSource\"},\"glyph\":{\"id\":\"7296370d-8acf-4b3e-aec6-20cd0c4cdce4\",\"type\":\"Rect\"},\"hover_glyph\":null,\"nonselection_glyph\":null,\"selection_glyph\":null},\"id\":\"69a0e3e8-f821-4ec8-badb-8bffc7523263\",\"type\":\"GlyphRenderer\"},{\"attributes\":{\"callback\":null,\"column_names\":[\"line_color\",\"height\",\"width\",\"color\",\"line_alpha\",\"fill_alpha\",\"label\",\"y\",\"x\"],\"data\":{\"chart_index\":[{\"index\":\"signal processing\"}],\"color\":[\"#f22c40\"],\"fill_alpha\":[0.8],\"height\":[1.0],\"index\":[\"signal processing\"],\"label\":[{\"index\":\"signal processing\"}],\"line_alpha\":[1.0],\"line_color\":[\"white\"],\"width\":[0.8],\"x\":[\"signal processing\"],\"y\":[0.5]}},\"id\":\"c95d0c4c-3e25-46e5-b5ff-319672a8afd1\",\"type\":\"ColumnDataSource\"},{\"attributes\":{\"data_source\":{\"id\":\"2c175909-833d-4076-80b0-7a8730602a4f\",\"type\":\"ColumnDataSource\"},\"glyph\":{\"id\":\"4f605a79-1251-4108-87b6-e448a04be8da\",\"type\":\"Rect\"},\"hover_glyph\":null,\"nonselection_glyph\":null,\"selection_glyph\":null},\"id\":\"12353ac7-c201-4e04-b06f-dbb03d70fa9c\",\"type\":\"GlyphRenderer\"},{\"attributes\":{\"callback\":null,\"column_names\":[\"line_color\",\"height\",\"width\",\"color\",\"line_alpha\",\"fill_alpha\",\"label\",\"y\",\"x\"],\"data\":{\"chart_index\":[{\"index\":\"literature\"}],\"color\":[\"#f22c40\"],\"fill_alpha\":[0.8],\"height\":[3.0],\"index\":[\"literature\"],\"label\":[{\"index\":\"literature\"}],\"line_alpha\":[1.0],\"line_color\":[\"white\"],\"width\":[0.8],\"x\":[\"literature\"],\"y\":[1.5]}},\"id\":\"1764ba65-c210-498c-af33-f1642b28b075\",\"type\":\"ColumnDataSource\"},{\"attributes\":{\"data_source\":{\"id\":\"2a1d36fc-ad3e-49b1-8ee9-d30969e6ea73\",\"type\":\"ColumnDataSource\"},\"glyph\":{\"id\":\"60038693-8328-4499-a533-6b28cdd9a118\",\"type\":\"Rect\"},\"hover_glyph\":null,\"nonselection_glyph\":null,\"selection_glyph\":null},\"id\":\"7b0e38f6-9400-480c-b6a3-4db41421078c\",\"type\":\"GlyphRenderer\"},{\"attributes\":{\"callback\":null,\"column_names\":[\"line_color\",\"height\",\"width\",\"color\",\"line_alpha\",\"fill_alpha\",\"label\",\"y\",\"x\"],\"data\":{\"chart_index\":[{\"index\":\"arts\"}],\"color\":[\"#f22c40\"],\"fill_alpha\":[0.8],\"height\":[1.0],\"index\":[\"arts\"],\"label\":[{\"index\":\"arts\"}],\"line_alpha\":[1.0],\"line_color\":[\"white\"],\"width\":[0.8],\"x\":[\"arts\"],\"y\":[0.5]}},\"id\":\"422eecb9-c4fc-45c4-ba49-0280a7f8db6c\",\"type\":\"ColumnDataSource\"},{\"attributes\":{\"data_source\":{\"id\":\"8e24c451-af75-4216-8d78-9d0c0dfb0680\",\"type\":\"ColumnDataSource\"},\"glyph\":{\"id\":\"2a5855f7-8277-4a14-95c7-c212dfcf2966\",\"type\":\"Rect\"},\"hover_glyph\":null,\"nonselection_glyph\":null,\"selection_glyph\":null},\"id\":\"56a12dd6-e9db-41ab-b998-e4e994748a5c\",\"type\":\"GlyphRenderer\"},{\"attributes\":{\"callback\":null,\"column_names\":[\"line_color\",\"height\",\"width\",\"color\",\"line_alpha\",\"fill_alpha\",\"label\",\"y\",\"x\"],\"data\":{\"chart_index\":[{\"index\":\"finance\"}],\"color\":[\"#f22c40\"],\"fill_alpha\":[0.8],\"height\":[1.0],\"index\":[\"finance\"],\"label\":[{\"index\":\"finance\"}],\"line_alpha\":[1.0],\"line_color\":[\"white\"],\"width\":[0.8],\"x\":[\"finance\"],\"y\":[0.5]}},\"id\":\"f8a5a909-a884-4d64-b615-eca56524710e\",\"type\":\"ColumnDataSource\"},{\"attributes\":{\"callback\":null,\"column_names\":[\"line_color\",\"height\",\"width\",\"color\",\"line_alpha\",\"fill_alpha\",\"label\",\"y\",\"x\"],\"data\":{\"chart_index\":[{\"index\":\"physics\"}],\"color\":[\"#f22c40\"],\"fill_alpha\":[0.8],\"height\":[31.0],\"index\":[\"physics\"],\"label\":[{\"index\":\"physics\"}],\"line_alpha\":[1.0],\"line_color\":[\"white\"],\"width\":[0.8],\"x\":[\"physics\"],\"y\":[15.5]}},\"id\":\"75e9e75d-e48c-4a8c-be23-95d99bf4f552\",\"type\":\"ColumnDataSource\"},{\"attributes\":{\"plot\":{\"id\":\"92acd92e-826f-436c-81c4-9d290d190469\",\"subtype\":\"Chart\",\"type\":\"Plot\"}},\"id\":\"6fb2fdaf-f8cc-44f2-bcd1-0f8e49961b2b\",\"type\":\"HelpTool\"},{\"attributes\":{\"fill_alpha\":{\"field\":\"fill_alpha\"},\"fill_color\":{\"field\":\"color\"},\"height\":{\"field\":\"height\",\"units\":\"data\"},\"line_color\":{\"field\":\"line_color\"},\"width\":{\"field\":\"width\",\"units\":\"data\"},\"x\":{\"field\":\"x\"},\"y\":{\"field\":\"y\"}},\"id\":\"61e343ef-b2f4-4c68-a0e3-d5682927ce6a\",\"type\":\"Rect\"},{\"attributes\":{\"data_source\":{\"id\":\"fc5f7c23-3a25-42ac-9310-9a691ae9a309\",\"type\":\"ColumnDataSource\"},\"glyph\":{\"id\":\"8747345c-4606-462f-a70b-f7020d25ec4c\",\"type\":\"Rect\"},\"hover_glyph\":null,\"nonselection_glyph\":null,\"selection_glyph\":null},\"id\":\"30610d07-f22f-4b3a-8fd3-d42c35243bf1\",\"type\":\"GlyphRenderer\"},{\"attributes\":{\"fill_alpha\":{\"field\":\"fill_alpha\"},\"fill_color\":{\"field\":\"color\"},\"height\":{\"field\":\"height\",\"units\":\"data\"},\"line_color\":{\"field\":\"line_color\"},\"width\":{\"field\":\"width\",\"units\":\"data\"},\"x\":{\"field\":\"x\"},\"y\":{\"field\":\"y\"}},\"id\":\"dc83739b-b52a-495a-b408-8b3e514ef700\",\"type\":\"Rect\"},{\"attributes\":{\"fill_alpha\":{\"field\":\"fill_alpha\"},\"fill_color\":{\"field\":\"color\"},\"height\":{\"field\":\"height\",\"units\":\"data\"},\"line_color\":{\"field\":\"line_color\"},\"width\":{\"field\":\"width\",\"units\":\"data\"},\"x\":{\"field\":\"x\"},\"y\":{\"field\":\"y\"}},\"id\":\"1b1ddf41-41a8-4697-a013-dba6493e71ff\",\"type\":\"Rect\"},{\"attributes\":{\"fill_alpha\":{\"field\":\"fill_alpha\"},\"fill_color\":{\"field\":\"color\"},\"height\":{\"field\":\"height\",\"units\":\"data\"},\"line_color\":{\"field\":\"line_color\"},\"width\":{\"field\":\"width\",\"units\":\"data\"},\"x\":{\"field\":\"x\"},\"y\":{\"field\":\"y\"}},\"id\":\"858ebb77-8824-486a-bfe2-a475cd4e6689\",\"type\":\"Rect\"},{\"attributes\":{\"data_source\":{\"id\":\"5d9ac3c1-1d73-4b81-8069-2b2286858d87\",\"type\":\"ColumnDataSource\"},\"glyph\":{\"id\":\"938b2254-86d9-4464-aa89-273c5c8a747d\",\"type\":\"Rect\"},\"hover_glyph\":null,\"nonselection_glyph\":null,\"selection_glyph\":null},\"id\":\"021ea16e-dd6f-44a8-be5b-81a58d4da1af\",\"type\":\"GlyphRenderer\"},{\"attributes\":{\"fill_alpha\":{\"field\":\"fill_alpha\"},\"fill_color\":{\"field\":\"color\"},\"height\":{\"field\":\"height\",\"units\":\"data\"},\"line_color\":{\"field\":\"line_color\"},\"width\":{\"field\":\"width\",\"units\":\"data\"},\"x\":{\"field\":\"x\"},\"y\":{\"field\":\"y\"}},\"id\":\"4f605a79-1251-4108-87b6-e448a04be8da\",\"type\":\"Rect\"},{\"attributes\":{\"data_source\":{\"id\":\"cf4ee21a-9c65-499f-a1b8-88d8e9c72b5f\",\"type\":\"ColumnDataSource\"},\"glyph\":{\"id\":\"937c049a-ea7e-46fd-a583-d7a060b07a88\",\"type\":\"Rect\"},\"hover_glyph\":null,\"nonselection_glyph\":null,\"selection_glyph\":null},\"id\":\"dbe09809-3bed-4c77-b4f6-a5caf2558176\",\"type\":\"GlyphRenderer\"},{\"attributes\":{\"plot\":{\"id\":\"92acd92e-826f-436c-81c4-9d290d190469\",\"subtype\":\"Chart\",\"type\":\"Plot\"}},\"id\":\"887f2746-c884-47ee-812f-e90bb3188780\",\"type\":\"PanTool\"},{\"attributes\":{\"fill_alpha\":{\"field\":\"fill_alpha\"},\"fill_color\":{\"field\":\"color\"},\"height\":{\"field\":\"height\",\"units\":\"data\"},\"line_color\":{\"field\":\"line_color\"},\"width\":{\"field\":\"width\",\"units\":\"data\"},\"x\":{\"field\":\"x\"},\"y\":{\"field\":\"y\"}},\"id\":\"5a8050b0-9bb6-4ca9-8ba7-e7648e32d2df\",\"type\":\"Rect\"},{\"attributes\":{\"plot\":{\"id\":\"92acd92e-826f-436c-81c4-9d290d190469\",\"subtype\":\"Chart\",\"type\":\"Plot\"}},\"id\":\"2b1794f4-d0bf-489c-b0cc-9b376e874b6b\",\"type\":\"ResetTool\"},{\"attributes\":{\"data_source\":{\"id\":\"8a6fb301-2a2c-46be-bc19-93b5c22d20b0\",\"type\":\"ColumnDataSource\"},\"glyph\":{\"id\":\"3067d4da-9251-46f5-a979-97bc027ad575\",\"type\":\"Rect\"},\"hover_glyph\":null,\"nonselection_glyph\":null,\"selection_glyph\":null},\"id\":\"6ad15eaa-e8c4-456b-80cf-36eff09f1513\",\"type\":\"GlyphRenderer\"},{\"attributes\":{\"data_source\":{\"id\":\"e2ec7ea3-bc2f-44ff-8f1d-e9953f2f7aea\",\"type\":\"ColumnDataSource\"},\"glyph\":{\"id\":\"10d90797-b4ca-4428-9004-c47d95b7f9f5\",\"type\":\"Rect\"},\"hover_glyph\":null,\"nonselection_glyph\":null,\"selection_glyph\":null},\"id\":\"b61c2a0d-5af7-4819-9ec4-8aa7473c73e1\",\"type\":\"GlyphRenderer\"},{\"attributes\":{\"dimension\":1,\"plot\":{\"id\":\"92acd92e-826f-436c-81c4-9d290d190469\",\"subtype\":\"Chart\",\"type\":\"Plot\"},\"ticker\":{\"id\":\"3313417e-30e0-4e72-ac25-438e48e73bb0\",\"type\":\"BasicTicker\"}},\"id\":\"8fd01316-3e87-4ef8-8142-2365758f9b1c\",\"type\":\"Grid\"},{\"attributes\":{\"callback\":null,\"column_names\":[\"line_color\",\"height\",\"width\",\"color\",\"line_alpha\",\"fill_alpha\",\"label\",\"y\",\"x\"],\"data\":{\"chart_index\":[{\"index\":\"economics\"}],\"color\":[\"#f22c40\"],\"fill_alpha\":[0.8],\"height\":[4.0],\"index\":[\"economics\"],\"label\":[{\"index\":\"economics\"}],\"line_alpha\":[1.0],\"line_color\":[\"white\"],\"width\":[0.8],\"x\":[\"economics\"],\"y\":[2.0]}},\"id\":\"da403fbb-66bb-4e8a-85b4-fc1f952d1e07\",\"type\":\"ColumnDataSource\"},{\"attributes\":{\"callback\":null,\"column_names\":[\"line_color\",\"height\",\"width\",\"color\",\"line_alpha\",\"fill_alpha\",\"label\",\"y\",\"x\"],\"data\":{\"chart_index\":[{\"index\":\"library\\ud83d\\udd2d\\ud83d\\udc8a\\ud83d\\udd2c\"}],\"color\":[\"#f22c40\"],\"fill_alpha\":[0.8],\"height\":[1.0],\"index\":[\"library\\ud83d\\udd2d\\ud83d\\udc8a\\ud83d\\udd2c\"],\"label\":[{\"index\":\"library\\ud83d\\udd2d\\ud83d\\udc8a\\ud83d\\udd2c\"}],\"line_alpha\":[1.0],\"line_color\":[\"white\"],\"width\":[0.8],\"x\":[\"library\\ud83d\\udd2d\\ud83d\\udc8a\\ud83d\\udd2c\"],\"y\":[0.5]}},\"id\":\"ba7bbbc7-985d-4aba-899c-ef45ceafc967\",\"type\":\"ColumnDataSource\"},{\"attributes\":{},\"id\":\"3313417e-30e0-4e72-ac25-438e48e73bb0\",\"type\":\"BasicTicker\"},{\"attributes\":{\"data_source\":{\"id\":\"b34bbc18-6f5a-43fa-8409-a939fa9d5503\",\"type\":\"ColumnDataSource\"},\"glyph\":{\"id\":\"80f73241-4fe5-4871-87a6-25615997a616\",\"type\":\"Rect\"},\"hover_glyph\":null,\"nonselection_glyph\":null,\"selection_glyph\":null},\"id\":\"6d049bc8-1d91-49f0-a69d-6fcdc3ad39bf\",\"type\":\"GlyphRenderer\"},{\"attributes\":{\"fill_alpha\":{\"field\":\"fill_alpha\"},\"fill_color\":{\"field\":\"color\"},\"height\":{\"field\":\"height\",\"units\":\"data\"},\"line_color\":{\"field\":\"line_color\"},\"width\":{\"field\":\"width\",\"units\":\"data\"},\"x\":{\"field\":\"x\"},\"y\":{\"field\":\"y\"}},\"id\":\"8747345c-4606-462f-a70b-f7020d25ec4c\",\"type\":\"Rect\"},{\"attributes\":{\"fill_alpha\":{\"field\":\"fill_alpha\"},\"fill_color\":{\"field\":\"color\"},\"height\":{\"field\":\"height\",\"units\":\"data\"},\"line_color\":{\"field\":\"line_color\"},\"width\":{\"field\":\"width\",\"units\":\"data\"},\"x\":{\"field\":\"x\"},\"y\":{\"field\":\"y\"}},\"id\":\"5ea829ae-b3de-48d7-9ce8-87f4bd45e80d\",\"type\":\"Rect\"},{\"attributes\":{\"data_source\":{\"id\":\"f53ee6ca-4598-445b-9cb2-74cad040f34e\",\"type\":\"ColumnDataSource\"},\"glyph\":{\"id\":\"cf3ec054-75be-42d9-84cb-d212e6c77c00\",\"type\":\"Rect\"},\"hover_glyph\":null,\"nonselection_glyph\":null,\"selection_glyph\":null},\"id\":\"6c5b45d3-9f5e-44d7-81ed-7d12b05d0f3f\",\"type\":\"GlyphRenderer\"},{\"attributes\":{\"fill_alpha\":{\"field\":\"fill_alpha\"},\"fill_color\":{\"field\":\"color\"},\"height\":{\"field\":\"height\",\"units\":\"data\"},\"line_color\":{\"field\":\"line_color\"},\"width\":{\"field\":\"width\",\"units\":\"data\"},\"x\":{\"field\":\"x\"},\"y\":{\"field\":\"y\"}},\"id\":\"10d90797-b4ca-4428-9004-c47d95b7f9f5\",\"type\":\"Rect\"},{\"attributes\":{\"callback\":null,\"column_names\":[\"line_color\",\"height\",\"width\",\"color\",\"line_alpha\",\"fill_alpha\",\"label\",\"y\",\"x\"],\"data\":{\"chart_index\":[{\"index\":\"robotics\"}],\"color\":[\"#f22c40\"],\"fill_alpha\":[0.8],\"height\":[1.0],\"index\":[\"robotics\"],\"label\":[{\"index\":\"robotics\"}],\"line_alpha\":[1.0],\"line_color\":[\"white\"],\"width\":[0.8],\"x\":[\"robotics\"],\"y\":[0.5]}},\"id\":\"b34bbc18-6f5a-43fa-8409-a939fa9d5503\",\"type\":\"ColumnDataSource\"},{\"attributes\":{\"callback\":null,\"column_names\":[\"line_color\",\"height\",\"width\",\"color\",\"line_alpha\",\"fill_alpha\",\"label\",\"y\",\"x\"],\"data\":{\"chart_index\":[{\"index\":\"astrophysics\"}],\"color\":[\"#f22c40\"],\"fill_alpha\":[0.8],\"height\":[1.0],\"index\":[\"astrophysics\"],\"label\":[{\"index\":\"astrophysics\"}],\"line_alpha\":[1.0],\"line_color\":[\"white\"],\"width\":[0.8],\"x\":[\"astrophysics\"],\"y\":[0.5]}},\"id\":\"d455bc8c-d2c3-4218-852e-4dbb60575446\",\"type\":\"ColumnDataSource\"},{\"attributes\":{\"callback\":null,\"column_names\":[\"line_color\",\"height\",\"width\",\"color\",\"line_alpha\",\"fill_alpha\",\"label\",\"y\",\"x\"],\"data\":{\"chart_index\":[{\"index\":\"materials\\ud83d\\ude82\\ud83c\\udfe2\\u2708\\ufe0f\"}],\"color\":[\"#f22c40\"],\"fill_alpha\":[0.8],\"height\":[1.0],\"index\":[\"materials\\ud83d\\ude82\\ud83c\\udfe2\\u2708\\ufe0f\"],\"label\":[{\"index\":\"materials\\ud83d\\ude82\\ud83c\\udfe2\\u2708\\ufe0f\"}],\"line_alpha\":[1.0],\"line_color\":[\"white\"],\"width\":[0.8],\"x\":[\"materials\\ud83d\\ude82\\ud83c\\udfe2\\u2708\\ufe0f\"],\"y\":[0.5]}},\"id\":\"e256d453-6b60-4fcc-935e-4f8ebc72559a\",\"type\":\"ColumnDataSource\"},{\"attributes\":{\"callback\":null,\"column_names\":[\"line_color\",\"height\",\"width\",\"color\",\"line_alpha\",\"fill_alpha\",\"label\",\"y\",\"x\"],\"data\":{\"chart_index\":[{\"index\":\"statistics\"}],\"color\":[\"#f22c40\"],\"fill_alpha\":[0.8],\"height\":[17.0],\"index\":[\"statistics\"],\"label\":[{\"index\":\"statistics\"}],\"line_alpha\":[1.0],\"line_color\":[\"white\"],\"width\":[0.8],\"x\":[\"statistics\"],\"y\":[8.5]}},\"id\":\"1b31dc96-82fa-4e87-af31-0b8bfd6a7022\",\"type\":\"ColumnDataSource\"},{\"attributes\":{\"callback\":null,\"column_names\":[\"line_color\",\"height\",\"width\",\"color\",\"line_alpha\",\"fill_alpha\",\"label\",\"y\",\"x\"],\"data\":{\"chart_index\":[{\"index\":\"artificial intelligence\"}],\"color\":[\"#f22c40\"],\"fill_alpha\":[0.8],\"height\":[1.0],\"index\":[\"artificial intelligence\"],\"label\":[{\"index\":\"artificial intelligence\"}],\"line_alpha\":[1.0],\"line_color\":[\"white\"],\"width\":[0.8],\"x\":[\"artificial intelligence\"],\"y\":[0.5]}},\"id\":\"14208991-9ab5-4033-91db-506029f794a4\",\"type\":\"ColumnDataSource\"},{\"attributes\":{\"callback\":null,\"column_names\":[\"line_color\",\"height\",\"width\",\"color\",\"line_alpha\",\"fill_alpha\",\"label\",\"y\",\"x\"],\"data\":{\"chart_index\":[{\"index\":\"machine learning\"}],\"color\":[\"#f22c40\"],\"fill_alpha\":[0.8],\"height\":[13.0],\"index\":[\"machine learning\"],\"label\":[{\"index\":\"machine learning\"}],\"line_alpha\":[1.0],\"line_color\":[\"white\"],\"width\":[0.8],\"x\":[\"machine learning\"],\"y\":[6.5]}},\"id\":\"bdfe7724-6003-4d50-920a-51585580efb9\",\"type\":\"ColumnDataSource\"},{\"attributes\":{\"callback\":null,\"factors\":[\"artificial intelligence\",\"arts\",\"astrophysics\",\"biology\",\"chemical and biological\\ud83d\\ude82\\ud83c\\udfe2\\u2708\\ufe0f\",\"chemical\\ud83d\\ude82\\ud83c\\udfe2\\u2708\\ufe0f\",\"chemistry\",\"civil\\ud83d\\ude82\\ud83c\\udfe2\\u2708\\ufe0f\",\"computer\\ud83d\\udd2d\\ud83d\\udc8a\\ud83d\\udd2c\",\"data\\ud83d\\udd2d\\ud83d\\udc8a\\ud83d\\udd2c\",\"earth\\ud83d\\udd2d\\ud83d\\udc8a\\ud83d\\udd2c\",\"economics\",\"electrical\\ud83d\\ude82\\ud83c\\udfe2\\u2708\\ufe0f\",\"environmental\\ud83d\\udd2d\\ud83d\\udc8a\\ud83d\\udd2c\",\"finance\",\"general elementary data & programming skills\",\"geography\",\"history\",\"journalism\",\"library\\ud83d\\udd2d\\ud83d\\udc8a\\ud83d\\udd2c\",\"linguistics\",\"literature\",\"machine learning\",\"materials\\ud83d\\ude82\\ud83c\\udfe2\\u2708\\ufe0f\",\"mathematics\",\"mechanical\\ud83d\\ude82\\ud83c\\udfe2\\u2708\\ufe0f\",\"medicine\",\"physics\",\"planetary/\\ud83d\\udc7d\\ud83d\\udd2d\\ud83d\\udc8a\\ud83d\\udd2c\",\"political\\ud83d\\udd2d\\ud83d\\udc8a\\ud83d\\udd2c\",\"psychology\",\"robotics\",\"signal processing\",\"sociology\",\"software\\ud83d\\ude82\\ud83c\\udfe2\\u2708\\ufe0f\",\"statistics\",\"telecommunication\"]},\"id\":\"fb316382-8841-48a5-90a6-2a43fa6ebd26\",\"type\":\"FactorRange\"},{\"attributes\":{\"fill_alpha\":{\"field\":\"fill_alpha\"},\"fill_color\":{\"field\":\"color\"},\"height\":{\"field\":\"height\",\"units\":\"data\"},\"line_color\":{\"field\":\"line_color\"},\"width\":{\"field\":\"width\",\"units\":\"data\"},\"x\":{\"field\":\"x\"},\"y\":{\"field\":\"y\"}},\"id\":\"3067d4da-9251-46f5-a979-97bc027ad575\",\"type\":\"Rect\"},{\"attributes\":{\"data_source\":{\"id\":\"e256d453-6b60-4fcc-935e-4f8ebc72559a\",\"type\":\"ColumnDataSource\"},\"glyph\":{\"id\":\"9c1fe6e2-f263-4102-a879-c61a7df11d88\",\"type\":\"Rect\"},\"hover_glyph\":null,\"nonselection_glyph\":null,\"selection_glyph\":null},\"id\":\"e1295492-cac8-4cb5-bac0-fb102d08f5bc\",\"type\":\"GlyphRenderer\"},{\"attributes\":{\"fill_alpha\":{\"field\":\"fill_alpha\"},\"fill_color\":{\"field\":\"color\"},\"height\":{\"field\":\"height\",\"units\":\"data\"},\"line_color\":{\"field\":\"line_color\"},\"width\":{\"field\":\"width\",\"units\":\"data\"},\"x\":{\"field\":\"x\"},\"y\":{\"field\":\"y\"}},\"id\":\"8f408e3a-6e07-42b9-85cd-74c77bf87e0d\",\"type\":\"Rect\"},{\"attributes\":{\"callback\":null,\"column_names\":[\"line_color\",\"height\",\"width\",\"color\",\"line_alpha\",\"fill_alpha\",\"label\",\"y\",\"x\"],\"data\":{\"chart_index\":[{\"index\":\"software\\ud83d\\ude82\\ud83c\\udfe2\\u2708\\ufe0f\"}],\"color\":[\"#f22c40\"],\"fill_alpha\":[0.8],\"height\":[1.0],\"index\":[\"software\\ud83d\\ude82\\ud83c\\udfe2\\u2708\\ufe0f\"],\"label\":[{\"index\":\"software\\ud83d\\ude82\\ud83c\\udfe2\\u2708\\ufe0f\"}],\"line_alpha\":[1.0],\"line_color\":[\"white\"],\"width\":[0.8],\"x\":[\"software\\ud83d\\ude82\\ud83c\\udfe2\\u2708\\ufe0f\"],\"y\":[0.5]}},\"id\":\"bf33337f-cc66-40c3-bef7-ce4ddcd962e9\",\"type\":\"ColumnDataSource\"},{\"attributes\":{\"data_source\":{\"id\":\"dad3ec01-dcd4-4337-b96d-4159d6ec49ea\",\"type\":\"ColumnDataSource\"},\"glyph\":{\"id\":\"e3ef37e7-b72e-44c7-af86-ba06e83c2995\",\"type\":\"Rect\"},\"hover_glyph\":null,\"nonselection_glyph\":null,\"selection_glyph\":null},\"id\":\"667b8638-72c5-4a82-b44a-f24e90b0eef1\",\"type\":\"GlyphRenderer\"},{\"attributes\":{\"fill_alpha\":{\"field\":\"fill_alpha\"},\"fill_color\":{\"field\":\"color\"},\"height\":{\"field\":\"height\",\"units\":\"data\"},\"line_color\":{\"field\":\"line_color\"},\"width\":{\"field\":\"width\",\"units\":\"data\"},\"x\":{\"field\":\"x\"},\"y\":{\"field\":\"y\"}},\"id\":\"a856552b-3aa2-46f4-add0-d28eafd626f9\",\"type\":\"Rect\"},{\"attributes\":{\"below\":[{\"id\":\"50244421-77dd-4059-ad49-b5cd05d7f26a\",\"type\":\"CategoricalAxis\"}],\"left\":[{\"id\":\"84239561-a3b6-470d-b6bc-364c77bf7c12\",\"type\":\"LinearAxis\"}],\"plot_height\":350,\"plot_width\":800,\"renderers\":[{\"id\":\"690506dd-a17d-49a2-b6d2-334c7a5af3a5\",\"type\":\"BoxAnnotation\"},{\"id\":\"c3878d51-babc-49a4-af7c-558bab359df9\",\"type\":\"GlyphRenderer\"},{\"id\":\"0be20757-ced9-4e9b-83f6-a07ea4557094\",\"type\":\"GlyphRenderer\"},{\"id\":\"d08a8c4b-4dc9-4203-9734-24f0acff3700\",\"type\":\"GlyphRenderer\"},{\"id\":\"56a12dd6-e9db-41ab-b998-e4e994748a5c\",\"type\":\"GlyphRenderer\"},{\"id\":\"8b804b48-a659-4dc0-90c4-f1cdc4bdf94e\",\"type\":\"GlyphRenderer\"},{\"id\":\"c567f728-e2b3-4b43-8eab-3bb1eb9e10a2\",\"type\":\"GlyphRenderer\"},{\"id\":\"c5ebb4c4-fa94-4626-b33f-fdfa69433844\",\"type\":\"GlyphRenderer\"},{\"id\":\"12353ac7-c201-4e04-b06f-dbb03d70fa9c\",\"type\":\"GlyphRenderer\"},{\"id\":\"5ef36b7c-94f7-4a6a-b011-9d8fa4de7fd8\",\"type\":\"GlyphRenderer\"},{\"id\":\"cc78f300-bb71-4d9d-913d-332d8afcdeb5\",\"type\":\"GlyphRenderer\"},{\"id\":\"5255716d-730f-4e79-acc6-5c11dba2afe9\",\"type\":\"GlyphRenderer\"},{\"id\":\"7b0e38f6-9400-480c-b6a3-4db41421078c\",\"type\":\"GlyphRenderer\"},{\"id\":\"82b73b11-d5d2-43e9-9c76-190a75f28638\",\"type\":\"GlyphRenderer\"},{\"id\":\"c19e0084-e962-4195-8b33-bb310a72297c\",\"type\":\"GlyphRenderer\"},{\"id\":\"a283b1e4-b0b7-49e3-a2e5-0a2b76628cfe\",\"type\":\"GlyphRenderer\"},{\"id\":\"6ad15eaa-e8c4-456b-80cf-36eff09f1513\",\"type\":\"GlyphRenderer\"},{\"id\":\"30610d07-f22f-4b3a-8fd3-d42c35243bf1\",\"type\":\"GlyphRenderer\"},{\"id\":\"667b8638-72c5-4a82-b44a-f24e90b0eef1\",\"type\":\"GlyphRenderer\"},{\"id\":\"6c5b45d3-9f5e-44d7-81ed-7d12b05d0f3f\",\"type\":\"GlyphRenderer\"},{\"id\":\"5b7ebe75-318b-4dfa-8ae5-726c382e627f\",\"type\":\"GlyphRenderer\"},{\"id\":\"dbe09809-3bed-4c77-b4f6-a5caf2558176\",\"type\":\"GlyphRenderer\"},{\"id\":\"e39ed395-7dc5-403a-b31e-aa6afb472496\",\"type\":\"GlyphRenderer\"},{\"id\":\"e595b5cb-c86e-40be-b124-4972fde2b55d\",\"type\":\"GlyphRenderer\"},{\"id\":\"17fb28be-3518-49ee-a567-894b882893c8\",\"type\":\"GlyphRenderer\"},{\"id\":\"6d653c22-ad0f-47b9-b57a-3e6509f68c4a\",\"type\":\"GlyphRenderer\"},{\"id\":\"69a0e3e8-f821-4ec8-badb-8bffc7523263\",\"type\":\"GlyphRenderer\"},{\"id\":\"7ca14b09-3de2-4c39-b035-1793ec412ba2\",\"type\":\"GlyphRenderer\"},{\"id\":\"b61c2a0d-5af7-4819-9ec4-8aa7473c73e1\",\"type\":\"GlyphRenderer\"},{\"id\":\"4d5284f4-5d51-484a-b345-ee33f5eb8c9a\",\"type\":\"GlyphRenderer\"},{\"id\":\"021ea16e-dd6f-44a8-be5b-81a58d4da1af\",\"type\":\"GlyphRenderer\"},{\"id\":\"e1295492-cac8-4cb5-bac0-fb102d08f5bc\",\"type\":\"GlyphRenderer\"},{\"id\":\"5aa2429b-72fe-4144-ab8f-53666c31e4ae\",\"type\":\"GlyphRenderer\"},{\"id\":\"5cb836ee-b82d-4cf0-9525-26eb1b79389a\",\"type\":\"GlyphRenderer\"},{\"id\":\"6d049bc8-1d91-49f0-a69d-6fcdc3ad39bf\",\"type\":\"GlyphRenderer\"},{\"id\":\"2231b701-2b13-4758-bea1-13dab5fc8ee1\",\"type\":\"GlyphRenderer\"},{\"id\":\"46f1effc-6ce1-49e9-a4fe-56abfd58e9ff\",\"type\":\"GlyphRenderer\"},{\"id\":\"315cf33d-a326-4c42-8937-ac72089e2244\",\"type\":\"GlyphRenderer\"},{\"id\":\"50244421-77dd-4059-ad49-b5cd05d7f26a\",\"type\":\"CategoricalAxis\"},{\"id\":\"84239561-a3b6-470d-b6bc-364c77bf7c12\",\"type\":\"LinearAxis\"},{\"id\":\"8fd01316-3e87-4ef8-8142-2365758f9b1c\",\"type\":\"Grid\"}],\"title\":{\"id\":\"03c10215-5b8d-4dcb-a87e-204f150f2724\",\"type\":\"Title\"},\"tool_events\":{\"id\":\"63368cdc-0671-4c44-b822-bc9ea2506006\",\"type\":\"ToolEvents\"},\"toolbar\":{\"id\":\"0774c725-4f98-419f-ba50-8a766dc055d1\",\"type\":\"Toolbar\"},\"x_mapper_type\":\"auto\",\"x_range\":{\"id\":\"fb316382-8841-48a5-90a6-2a43fa6ebd26\",\"type\":\"FactorRange\"},\"y_mapper_type\":\"auto\",\"y_range\":{\"id\":\"d1d01cb9-5a50-4f31-91d0-d40c898b9581\",\"type\":\"Range1d\"}},\"id\":\"92acd92e-826f-436c-81c4-9d290d190469\",\"subtype\":\"Chart\",\"type\":\"Plot\"},{\"attributes\":{\"callback\":null,\"column_names\":[\"line_color\",\"height\",\"width\",\"color\",\"line_alpha\",\"fill_alpha\",\"label\",\"y\",\"x\"],\"data\":{\"chart_index\":[{\"index\":\"electrical\\ud83d\\ude82\\ud83c\\udfe2\\u2708\\ufe0f\"}],\"color\":[\"#f22c40\"],\"fill_alpha\":[0.8],\"height\":[9.0],\"index\":[\"electrical\\ud83d\\ude82\\ud83c\\udfe2\\u2708\\ufe0f\"],\"label\":[{\"index\":\"electrical\\ud83d\\ude82\\ud83c\\udfe2\\u2708\\ufe0f\"}],\"line_alpha\":[1.0],\"line_color\":[\"white\"],\"width\":[0.8],\"x\":[\"electrical\\ud83d\\ude82\\ud83c\\udfe2\\u2708\\ufe0f\"],\"y\":[4.5]}},\"id\":\"2c175909-833d-4076-80b0-7a8730602a4f\",\"type\":\"ColumnDataSource\"},{\"attributes\":{},\"id\":\"eb115267-40a3-4968-a3e1-69b754aca0dc\",\"type\":\"CategoricalTickFormatter\"},{\"attributes\":{\"fill_alpha\":{\"field\":\"fill_alpha\"},\"fill_color\":{\"field\":\"color\"},\"height\":{\"field\":\"height\",\"units\":\"data\"},\"line_color\":{\"field\":\"line_color\"},\"width\":{\"field\":\"width\",\"units\":\"data\"},\"x\":{\"field\":\"x\"},\"y\":{\"field\":\"y\"}},\"id\":\"8be79d4f-7f29-461f-a113-91a408618613\",\"type\":\"Rect\"},{\"attributes\":{\"data_source\":{\"id\":\"88366190-e1d6-41ce-96a3-4afb358e44b3\",\"type\":\"ColumnDataSource\"},\"glyph\":{\"id\":\"61e343ef-b2f4-4c68-a0e3-d5682927ce6a\",\"type\":\"Rect\"},\"hover_glyph\":null,\"nonselection_glyph\":null,\"selection_glyph\":null},\"id\":\"0be20757-ced9-4e9b-83f6-a07ea4557094\",\"type\":\"GlyphRenderer\"},{\"attributes\":{\"data_source\":{\"id\":\"3704e00a-83ed-40a9-ad7c-7fcd802d4790\",\"type\":\"ColumnDataSource\"},\"glyph\":{\"id\":\"102ff1c1-ebfe-4ad2-a1d9-134a8bf7b849\",\"type\":\"Rect\"},\"hover_glyph\":null,\"nonselection_glyph\":null,\"selection_glyph\":null},\"id\":\"4d5284f4-5d51-484a-b345-ee33f5eb8c9a\",\"type\":\"GlyphRenderer\"},{\"attributes\":{\"data_source\":{\"id\":\"1764ba65-c210-498c-af33-f1642b28b075\",\"type\":\"ColumnDataSource\"},\"glyph\":{\"id\":\"e7d6f183-2a85-4dd3-b9d1-b0e9879c5bd7\",\"type\":\"Rect\"},\"hover_glyph\":null,\"nonselection_glyph\":null,\"selection_glyph\":null},\"id\":\"a283b1e4-b0b7-49e3-a2e5-0a2b76628cfe\",\"type\":\"GlyphRenderer\"},{\"attributes\":{\"data_source\":{\"id\":\"ba7bbbc7-985d-4aba-899c-ef45ceafc967\",\"type\":\"ColumnDataSource\"},\"glyph\":{\"id\":\"7e7f7852-1e5c-423d-b08a-d736e755f7a7\",\"type\":\"Rect\"},\"hover_glyph\":null,\"nonselection_glyph\":null,\"selection_glyph\":null},\"id\":\"6d653c22-ad0f-47b9-b57a-3e6509f68c4a\",\"type\":\"GlyphRenderer\"},{\"attributes\":{\"fill_alpha\":{\"field\":\"fill_alpha\"},\"fill_color\":{\"field\":\"color\"},\"height\":{\"field\":\"height\",\"units\":\"data\"},\"line_color\":{\"field\":\"line_color\"},\"width\":{\"field\":\"width\",\"units\":\"data\"},\"x\":{\"field\":\"x\"},\"y\":{\"field\":\"y\"}},\"id\":\"2a5855f7-8277-4a14-95c7-c212dfcf2966\",\"type\":\"Rect\"},{\"attributes\":{\"fill_alpha\":{\"field\":\"fill_alpha\"},\"fill_color\":{\"field\":\"color\"},\"height\":{\"field\":\"height\",\"units\":\"data\"},\"line_color\":{\"field\":\"line_color\"},\"width\":{\"field\":\"width\",\"units\":\"data\"},\"x\":{\"field\":\"x\"},\"y\":{\"field\":\"y\"}},\"id\":\"38225732-0e75-49be-8e82-b4ca79c6cd73\",\"type\":\"Rect\"},{\"attributes\":{\"data_source\":{\"id\":\"fd88a137-932d-4654-9f98-c6a6c19206a5\",\"type\":\"ColumnDataSource\"},\"glyph\":{\"id\":\"2c274ee2-beb0-44d3-b2e5-ef125ec4f2b2\",\"type\":\"Rect\"},\"hover_glyph\":null,\"nonselection_glyph\":null,\"selection_glyph\":null},\"id\":\"5cb836ee-b82d-4cf0-9525-26eb1b79389a\",\"type\":\"GlyphRenderer\"},{\"attributes\":{\"fill_alpha\":{\"field\":\"fill_alpha\"},\"fill_color\":{\"field\":\"color\"},\"height\":{\"field\":\"height\",\"units\":\"data\"},\"line_color\":{\"field\":\"line_color\"},\"width\":{\"field\":\"width\",\"units\":\"data\"},\"x\":{\"field\":\"x\"},\"y\":{\"field\":\"y\"}},\"id\":\"96e48d56-9568-4d0a-80a8-37e419f1884f\",\"type\":\"Rect\"},{\"attributes\":{\"axis_label\":\"Index\",\"formatter\":{\"id\":\"eb115267-40a3-4968-a3e1-69b754aca0dc\",\"type\":\"CategoricalTickFormatter\"},\"major_label_orientation\":0.7853981633974483,\"plot\":{\"id\":\"92acd92e-826f-436c-81c4-9d290d190469\",\"subtype\":\"Chart\",\"type\":\"Plot\"},\"ticker\":{\"id\":\"2c9a16f1-d0c8-47c6-9374-b745014c566c\",\"type\":\"CategoricalTicker\"}},\"id\":\"50244421-77dd-4059-ad49-b5cd05d7f26a\",\"type\":\"CategoricalAxis\"},{\"attributes\":{},\"id\":\"2283987d-2745-4c26-8119-9d05cda73c83\",\"type\":\"BasicTickFormatter\"},{\"attributes\":{\"data_source\":{\"id\":\"dc691bab-8e36-4da4-b4ad-d325a897a311\",\"type\":\"ColumnDataSource\"},\"glyph\":{\"id\":\"893ef737-6c8e-4b2a-9ad7-ffbac6628c5f\",\"type\":\"Rect\"},\"hover_glyph\":null,\"nonselection_glyph\":null,\"selection_glyph\":null},\"id\":\"5255716d-730f-4e79-acc6-5c11dba2afe9\",\"type\":\"GlyphRenderer\"},{\"attributes\":{\"fill_alpha\":{\"field\":\"fill_alpha\"},\"fill_color\":{\"field\":\"color\"},\"height\":{\"field\":\"height\",\"units\":\"data\"},\"line_color\":{\"field\":\"line_color\"},\"width\":{\"field\":\"width\",\"units\":\"data\"},\"x\":{\"field\":\"x\"},\"y\":{\"field\":\"y\"}},\"id\":\"b17a975a-fef2-4672-84e6-35cac3005965\",\"type\":\"Rect\"},{\"attributes\":{\"fill_alpha\":{\"field\":\"fill_alpha\"},\"fill_color\":{\"field\":\"color\"},\"height\":{\"field\":\"height\",\"units\":\"data\"},\"line_color\":{\"field\":\"line_color\"},\"width\":{\"field\":\"width\",\"units\":\"data\"},\"x\":{\"field\":\"x\"},\"y\":{\"field\":\"y\"}},\"id\":\"938b2254-86d9-4464-aa89-273c5c8a747d\",\"type\":\"Rect\"},{\"attributes\":{\"callback\":null,\"column_names\":[\"line_color\",\"height\",\"width\",\"color\",\"line_alpha\",\"fill_alpha\",\"label\",\"y\",\"x\"],\"data\":{\"chart_index\":[{\"index\":\"computer\\ud83d\\udd2d\\ud83d\\udc8a\\ud83d\\udd2c\"}],\"color\":[\"#f22c40\"],\"fill_alpha\":[0.8],\"height\":[49.0],\"index\":[\"computer\\ud83d\\udd2d\\ud83d\\udc8a\\ud83d\\udd2c\"],\"label\":[{\"index\":\"computer\\ud83d\\udd2d\\ud83d\\udc8a\\ud83d\\udd2c\"}],\"line_alpha\":[1.0],\"line_color\":[\"white\"],\"width\":[0.8],\"x\":[\"computer\\ud83d\\udd2d\\ud83d\\udc8a\\ud83d\\udd2c\"],\"y\":[24.5]}},\"id\":\"458f185f-d4f3-408e-8e85-5605528613f9\",\"type\":\"ColumnDataSource\"},{\"attributes\":{\"overlay\":{\"id\":\"690506dd-a17d-49a2-b6d2-334c7a5af3a5\",\"type\":\"BoxAnnotation\"},\"plot\":{\"id\":\"92acd92e-826f-436c-81c4-9d290d190469\",\"subtype\":\"Chart\",\"type\":\"Plot\"}},\"id\":\"9d83ff42-d005-4b40-8298-d6f0a34d6560\",\"type\":\"BoxZoomTool\"},{\"attributes\":{\"fill_alpha\":{\"field\":\"fill_alpha\"},\"fill_color\":{\"field\":\"color\"},\"height\":{\"field\":\"height\",\"units\":\"data\"},\"line_color\":{\"field\":\"line_color\"},\"width\":{\"field\":\"width\",\"units\":\"data\"},\"x\":{\"field\":\"x\"},\"y\":{\"field\":\"y\"}},\"id\":\"be44ca18-3d57-4104-9454-d3b2d90560f0\",\"type\":\"Rect\"},{\"attributes\":{\"callback\":null,\"column_names\":[\"line_color\",\"height\",\"width\",\"color\",\"line_alpha\",\"fill_alpha\",\"label\",\"y\",\"x\"],\"data\":{\"chart_index\":[{\"index\":\"chemistry\"}],\"color\":[\"#f22c40\"],\"fill_alpha\":[0.8],\"height\":[7.0],\"index\":[\"chemistry\"],\"label\":[{\"index\":\"chemistry\"}],\"line_alpha\":[1.0],\"line_color\":[\"white\"],\"width\":[0.8],\"x\":[\"chemistry\"],\"y\":[3.5]}},\"id\":\"c312c3b5-e910-4265-a024-083272e1c23f\",\"type\":\"ColumnDataSource\"},{\"attributes\":{\"callback\":null,\"column_names\":[\"line_color\",\"height\",\"width\",\"color\",\"line_alpha\",\"fill_alpha\",\"label\",\"y\",\"x\"],\"data\":{\"chart_index\":[{\"index\":\"data\\ud83d\\udd2d\\ud83d\\udc8a\\ud83d\\udd2c\"}],\"color\":[\"#f22c40\"],\"fill_alpha\":[0.8],\"height\":[32.0],\"index\":[\"data\\ud83d\\udd2d\\ud83d\\udc8a\\ud83d\\udd2c\"],\"label\":[{\"index\":\"data\\ud83d\\udd2d\\ud83d\\udc8a\\ud83d\\udd2c\"}],\"line_alpha\":[1.0],\"line_color\":[\"white\"],\"width\":[0.8],\"x\":[\"data\\ud83d\\udd2d\\ud83d\\udc8a\\ud83d\\udd2c\"],\"y\":[16.0]}},\"id\":\"88366190-e1d6-41ce-96a3-4afb358e44b3\",\"type\":\"ColumnDataSource\"},{\"attributes\":{\"callback\":null,\"column_names\":[\"line_color\",\"height\",\"width\",\"color\",\"line_alpha\",\"fill_alpha\",\"label\",\"y\",\"x\"],\"data\":{\"chart_index\":[{\"index\":\"civil\\ud83d\\ude82\\ud83c\\udfe2\\u2708\\ufe0f\"}],\"color\":[\"#f22c40\"],\"fill_alpha\":[0.8],\"height\":[1.0],\"index\":[\"civil\\ud83d\\ude82\\ud83c\\udfe2\\u2708\\ufe0f\"],\"label\":[{\"index\":\"civil\\ud83d\\ude82\\ud83c\\udfe2\\u2708\\ufe0f\"}],\"line_alpha\":[1.0],\"line_color\":[\"white\"],\"width\":[0.8],\"x\":[\"civil\\ud83d\\ude82\\ud83c\\udfe2\\u2708\\ufe0f\"],\"y\":[0.5]}},\"id\":\"cf4ee21a-9c65-499f-a1b8-88d8e9c72b5f\",\"type\":\"ColumnDataSource\"},{\"attributes\":{\"fill_alpha\":{\"field\":\"fill_alpha\"},\"fill_color\":{\"field\":\"color\"},\"height\":{\"field\":\"height\",\"units\":\"data\"},\"line_color\":{\"field\":\"line_color\"},\"width\":{\"field\":\"width\",\"units\":\"data\"},\"x\":{\"field\":\"x\"},\"y\":{\"field\":\"y\"}},\"id\":\"cf3ec054-75be-42d9-84cb-d212e6c77c00\",\"type\":\"Rect\"},{\"attributes\":{\"fill_alpha\":{\"field\":\"fill_alpha\"},\"fill_color\":{\"field\":\"color\"},\"height\":{\"field\":\"height\",\"units\":\"data\"},\"line_color\":{\"field\":\"line_color\"},\"width\":{\"field\":\"width\",\"units\":\"data\"},\"x\":{\"field\":\"x\"},\"y\":{\"field\":\"y\"}},\"id\":\"937c049a-ea7e-46fd-a583-d7a060b07a88\",\"type\":\"Rect\"},{\"attributes\":{\"fill_alpha\":{\"field\":\"fill_alpha\"},\"fill_color\":{\"field\":\"color\"},\"height\":{\"field\":\"height\",\"units\":\"data\"},\"line_color\":{\"field\":\"line_color\"},\"width\":{\"field\":\"width\",\"units\":\"data\"},\"x\":{\"field\":\"x\"},\"y\":{\"field\":\"y\"}},\"id\":\"9c1fe6e2-f263-4102-a879-c61a7df11d88\",\"type\":\"Rect\"},{\"attributes\":{\"callback\":null,\"column_names\":[\"line_color\",\"height\",\"width\",\"color\",\"line_alpha\",\"fill_alpha\",\"label\",\"y\",\"x\"],\"data\":{\"chart_index\":[{\"index\":\"general elementary data & programming skills\"}],\"color\":[\"#f22c40\"],\"fill_alpha\":[0.8],\"height\":[1.0],\"index\":[\"general elementary data & programming skills\"],\"label\":[{\"index\":\"general elementary data & programming skills\"}],\"line_alpha\":[1.0],\"line_color\":[\"white\"],\"width\":[0.8],\"x\":[\"general elementary data & programming skills\"],\"y\":[0.5]}},\"id\":\"b3d46587-70ee-4862-b084-3f71e8139e68\",\"type\":\"ColumnDataSource\"},{\"attributes\":{\"fill_alpha\":{\"field\":\"fill_alpha\"},\"fill_color\":{\"field\":\"color\"},\"height\":{\"field\":\"height\",\"units\":\"data\"},\"line_color\":{\"field\":\"line_color\"},\"width\":{\"field\":\"width\",\"units\":\"data\"},\"x\":{\"field\":\"x\"},\"y\":{\"field\":\"y\"}},\"id\":\"ef3d27b1-9ad8-4bec-9720-e97f4cce0b0b\",\"type\":\"Rect\"},{\"attributes\":{\"data_source\":{\"id\":\"1b31dc96-82fa-4e87-af31-0b8bfd6a7022\",\"type\":\"ColumnDataSource\"},\"glyph\":{\"id\":\"08666c0c-d0b3-4762-a09a-6b81b1f73500\",\"type\":\"Rect\"},\"hover_glyph\":null,\"nonselection_glyph\":null,\"selection_glyph\":null},\"id\":\"c567f728-e2b3-4b43-8eab-3bb1eb9e10a2\",\"type\":\"GlyphRenderer\"},{\"attributes\":{\"callback\":null,\"column_names\":[\"line_color\",\"height\",\"width\",\"color\",\"line_alpha\",\"fill_alpha\",\"label\",\"y\",\"x\"],\"data\":{\"chart_index\":[{\"index\":\"chemical and biological\\ud83d\\ude82\\ud83c\\udfe2\\u2708\\ufe0f\"}],\"color\":[\"#f22c40\"],\"fill_alpha\":[0.8],\"height\":[1.0],\"index\":[\"chemical and biological\\ud83d\\ude82\\ud83c\\udfe2\\u2708\\ufe0f\"],\"label\":[{\"index\":\"chemical and biological\\ud83d\\ude82\\ud83c\\udfe2\\u2708\\ufe0f\"}],\"line_alpha\":[1.0],\"line_color\":[\"white\"],\"width\":[0.8],\"x\":[\"chemical and biological\\ud83d\\ude82\\ud83c\\udfe2\\u2708\\ufe0f\"],\"y\":[0.5]}},\"id\":\"9853f903-9cbe-4bac-8852-bc7acaf3ea95\",\"type\":\"ColumnDataSource\"},{\"attributes\":{\"data_source\":{\"id\":\"da403fbb-66bb-4e8a-85b4-fc1f952d1e07\",\"type\":\"ColumnDataSource\"},\"glyph\":{\"id\":\"ef3d27b1-9ad8-4bec-9720-e97f4cce0b0b\",\"type\":\"Rect\"},\"hover_glyph\":null,\"nonselection_glyph\":null,\"selection_glyph\":null},\"id\":\"c19e0084-e962-4195-8b33-bb310a72297c\",\"type\":\"GlyphRenderer\"},{\"attributes\":{\"data_source\":{\"id\":\"9853f903-9cbe-4bac-8852-bc7acaf3ea95\",\"type\":\"ColumnDataSource\"},\"glyph\":{\"id\":\"a856552b-3aa2-46f4-add0-d28eafd626f9\",\"type\":\"Rect\"},\"hover_glyph\":null,\"nonselection_glyph\":null,\"selection_glyph\":null},\"id\":\"5b7ebe75-318b-4dfa-8ae5-726c382e627f\",\"type\":\"GlyphRenderer\"},{\"attributes\":{\"fill_alpha\":{\"field\":\"fill_alpha\"},\"fill_color\":{\"field\":\"color\"},\"height\":{\"field\":\"height\",\"units\":\"data\"},\"line_color\":{\"field\":\"line_color\"},\"width\":{\"field\":\"width\",\"units\":\"data\"},\"x\":{\"field\":\"x\"},\"y\":{\"field\":\"y\"}},\"id\":\"60038693-8328-4499-a533-6b28cdd9a118\",\"type\":\"Rect\"},{\"attributes\":{\"callback\":null,\"column_names\":[\"line_color\",\"height\",\"width\",\"color\",\"line_alpha\",\"fill_alpha\",\"label\",\"y\",\"x\"],\"data\":{\"chart_index\":[{\"index\":\"geography\"}],\"color\":[\"#f22c40\"],\"fill_alpha\":[0.8],\"height\":[2.0],\"index\":[\"geography\"],\"label\":[{\"index\":\"geography\"}],\"line_alpha\":[1.0],\"line_color\":[\"white\"],\"width\":[0.8],\"x\":[\"geography\"],\"y\":[1.0]}},\"id\":\"dad3ec01-dcd4-4337-b96d-4159d6ec49ea\",\"type\":\"ColumnDataSource\"},{\"attributes\":{\"data_source\":{\"id\":\"422eecb9-c4fc-45c4-ba49-0280a7f8db6c\",\"type\":\"ColumnDataSource\"},\"glyph\":{\"id\":\"5a8050b0-9bb6-4ca9-8ba7-e7648e32d2df\",\"type\":\"Rect\"},\"hover_glyph\":null,\"nonselection_glyph\":null,\"selection_glyph\":null},\"id\":\"e595b5cb-c86e-40be-b124-4972fde2b55d\",\"type\":\"GlyphRenderer\"},{\"attributes\":{\"data_source\":{\"id\":\"b3d46587-70ee-4862-b084-3f71e8139e68\",\"type\":\"ColumnDataSource\"},\"glyph\":{\"id\":\"858ebb77-8824-486a-bfe2-a475cd4e6689\",\"type\":\"Rect\"},\"hover_glyph\":null,\"nonselection_glyph\":null,\"selection_glyph\":null},\"id\":\"7ca14b09-3de2-4c39-b035-1793ec412ba2\",\"type\":\"GlyphRenderer\"},{\"attributes\":{\"callback\":null,\"column_names\":[\"line_color\",\"height\",\"width\",\"color\",\"line_alpha\",\"fill_alpha\",\"label\",\"y\",\"x\"],\"data\":{\"chart_index\":[{\"index\":\"telecommunication\"}],\"color\":[\"#f22c40\"],\"fill_alpha\":[0.8],\"height\":[1.0],\"index\":[\"telecommunication\"],\"label\":[{\"index\":\"telecommunication\"}],\"line_alpha\":[1.0],\"line_color\":[\"white\"],\"width\":[0.8],\"x\":[\"telecommunication\"],\"y\":[0.5]}},\"id\":\"3704e00a-83ed-40a9-ad7c-7fcd802d4790\",\"type\":\"ColumnDataSource\"},{\"attributes\":{\"callback\":null,\"column_names\":[\"line_color\",\"height\",\"width\",\"color\",\"line_alpha\",\"fill_alpha\",\"label\",\"y\",\"x\"],\"data\":{\"chart_index\":[{\"index\":\"sociology\"}],\"color\":[\"#f22c40\"],\"fill_alpha\":[0.8],\"height\":[2.0],\"index\":[\"sociology\"],\"label\":[{\"index\":\"sociology\"}],\"line_alpha\":[1.0],\"line_color\":[\"white\"],\"width\":[0.8],\"x\":[\"sociology\"],\"y\":[1.0]}},\"id\":\"8a6fb301-2a2c-46be-bc19-93b5c22d20b0\",\"type\":\"ColumnDataSource\"},{\"attributes\":{\"data_source\":{\"id\":\"a956da89-a75c-41f2-9151-fbb63588621d\",\"type\":\"ColumnDataSource\"},\"glyph\":{\"id\":\"5ea829ae-b3de-48d7-9ce8-87f4bd45e80d\",\"type\":\"Rect\"},\"hover_glyph\":null,\"nonselection_glyph\":null,\"selection_glyph\":null},\"id\":\"8b804b48-a659-4dc0-90c4-f1cdc4bdf94e\",\"type\":\"GlyphRenderer\"},{\"attributes\":{\"callback\":null,\"column_names\":[\"line_color\",\"height\",\"width\",\"color\",\"line_alpha\",\"fill_alpha\",\"label\",\"y\",\"x\"],\"data\":{\"chart_index\":[{\"index\":\"history\"}],\"color\":[\"#f22c40\"],\"fill_alpha\":[0.8],\"height\":[2.0],\"index\":[\"history\"],\"label\":[{\"index\":\"history\"}],\"line_alpha\":[1.0],\"line_color\":[\"white\"],\"width\":[0.8],\"x\":[\"history\"],\"y\":[1.0]}},\"id\":\"fc5f7c23-3a25-42ac-9310-9a691ae9a309\",\"type\":\"ColumnDataSource\"},{\"attributes\":{\"fill_alpha\":{\"field\":\"fill_alpha\"},\"fill_color\":{\"field\":\"color\"},\"height\":{\"field\":\"height\",\"units\":\"data\"},\"line_color\":{\"field\":\"line_color\"},\"width\":{\"field\":\"width\",\"units\":\"data\"},\"x\":{\"field\":\"x\"},\"y\":{\"field\":\"y\"}},\"id\":\"893ef737-6c8e-4b2a-9ad7-ffbac6628c5f\",\"type\":\"Rect\"},{\"attributes\":{\"callback\":null,\"column_names\":[\"line_color\",\"height\",\"width\",\"color\",\"line_alpha\",\"fill_alpha\",\"label\",\"y\",\"x\"],\"data\":{\"chart_index\":[{\"index\":\"environmental\\ud83d\\udd2d\\ud83d\\udc8a\\ud83d\\udd2c\"}],\"color\":[\"#f22c40\"],\"fill_alpha\":[0.8],\"height\":[1.0],\"index\":[\"environmental\\ud83d\\udd2d\\ud83d\\udc8a\\ud83d\\udd2c\"],\"label\":[{\"index\":\"environmental\\ud83d\\udd2d\\ud83d\\udc8a\\ud83d\\udd2c\"}],\"line_alpha\":[1.0],\"line_color\":[\"white\"],\"width\":[0.8],\"x\":[\"environmental\\ud83d\\udd2d\\ud83d\\udc8a\\ud83d\\udd2c\"],\"y\":[0.5]}},\"id\":\"f53ee6ca-4598-445b-9cb2-74cad040f34e\",\"type\":\"ColumnDataSource\"},{\"attributes\":{\"fill_alpha\":{\"field\":\"fill_alpha\"},\"fill_color\":{\"field\":\"color\"},\"height\":{\"field\":\"height\",\"units\":\"data\"},\"line_color\":{\"field\":\"line_color\"},\"width\":{\"field\":\"width\",\"units\":\"data\"},\"x\":{\"field\":\"x\"},\"y\":{\"field\":\"y\"}},\"id\":\"08666c0c-d0b3-4762-a09a-6b81b1f73500\",\"type\":\"Rect\"},{\"attributes\":{\"fill_alpha\":{\"field\":\"fill_alpha\"},\"fill_color\":{\"field\":\"color\"},\"height\":{\"field\":\"height\",\"units\":\"data\"},\"line_color\":{\"field\":\"line_color\"},\"width\":{\"field\":\"width\",\"units\":\"data\"},\"x\":{\"field\":\"x\"},\"y\":{\"field\":\"y\"}},\"id\":\"e7d6f183-2a85-4dd3-b9d1-b0e9879c5bd7\",\"type\":\"Rect\"},{\"attributes\":{\"data_source\":{\"id\":\"c312c3b5-e910-4265-a024-083272e1c23f\",\"type\":\"ColumnDataSource\"},\"glyph\":{\"id\":\"3c1871d2-a131-4fce-99ac-53ecbfe7ecad\",\"type\":\"Rect\"},\"hover_glyph\":null,\"nonselection_glyph\":null,\"selection_glyph\":null},\"id\":\"cc78f300-bb71-4d9d-913d-332d8afcdeb5\",\"type\":\"GlyphRenderer\"}],\"root_ids\":[\"92acd92e-826f-436c-81c4-9d290d190469\"]},\"title\":\"Bokeh Application\",\"version\":\"0.12.0\"}};\n",
       "            var render_items = [{\"docid\":\"ed9eccb6-de35-4e90-acac-25cffffa3c0b\",\"elementid\":\"1158915a-fab6-4390-87a3-c40248e6357f\",\"modelid\":\"92acd92e-826f-436c-81c4-9d290d190469\",\"notebook_comms_target\":\"9c063fe1-ec2f-4707-9d06-c639ecdeab3c\"}];\n",
       "            \n",
       "            Bokeh.embed.embed_items(docs_json, render_items);\n",
       "        });\n",
       "      },\n",
       "      function(Bokeh) {\n",
       "      }\n",
       "    ];\n",
       "  \n",
       "    function run_inline_js() {\n",
       "      for (var i = 0; i < inline_js.length; i++) {\n",
       "        inline_js[i](window.Bokeh);\n",
       "      }\n",
       "    }\n",
       "  \n",
       "    if (window._bokeh_is_loading === 0) {\n",
       "      console.log(\"Bokeh: BokehJS loaded, going straight to plotting\");\n",
       "      run_inline_js();\n",
       "    } else {\n",
       "      load_libs(js_urls, function() {\n",
       "        console.log(\"Bokeh: BokehJS plotting callback run at\", now());\n",
       "        run_inline_js();\n",
       "      });\n",
       "    }\n",
       "  }(this));\n",
       "</script>"
      ]
     },
     "metadata": {},
     "output_type": "display_data"
    }
   ],
   "source": [
    "charts.show(subjects.sum().sort_values(ascending=False).to_frame('subjects').pipe(charts.Bar, label='index', values='subjects', legend=None, plot_height=350, plot_width=800));"
   ]
  },
  {
   "cell_type": "code",
   "execution_count": 19,
   "metadata": {
    "collapsed": false
   },
   "outputs": [],
   "source": [
    "stackcorr = subjects.corr().stack()\n",
    "related_topics  = stackcorr[pd.np.logical_and(stackcorr < 1, stackcorr>.2 )].sort_values(ascending=False).to_frame('strength').drop_duplicates()"
   ]
  },
  {
   "cell_type": "code",
   "execution_count": 20,
   "metadata": {
    "collapsed": false
   },
   "outputs": [
    {
     "data": {
      "text/markdown": [
       "> <table border=\"1\" class=\"dataframe\">\n",
       "  <thead>\n",
       "    <tr>\n",
       "      <th></th>\n",
       "      <th>literature</th>\n",
       "      <th>library🔭💊🔬</th>\n",
       "      <th>journalism</th>\n",
       "      <th>arts</th>\n",
       "      <th colspan=\"2\" halign=\"left\">literature</th>\n",
       "      <th>finance</th>\n",
       "      <th>history</th>\n",
       "      <th>physics</th>\n",
       "      <th>astrophysics</th>\n",
       "      <th>literature</th>\n",
       "      <th>physics</th>\n",
       "      <th>chemical🚂🏢✈️</th>\n",
       "      <th>sociology</th>\n",
       "      <th>astrophysics</th>\n",
       "      <th>electrical🚂🏢✈️</th>\n",
       "      <th>literature</th>\n",
       "      <th>mathematics</th>\n",
       "      <th>biology</th>\n",
       "      <th colspan=\"2\" halign=\"left\">statistics</th>\n",
       "      <th>mechanical🚂🏢✈️</th>\n",
       "      <th>electrical🚂🏢✈️</th>\n",
       "      <th>machine learning</th>\n",
       "      <th>mathematics</th>\n",
       "      <th>data🔭💊🔬</th>\n",
       "      <th>mathematics</th>\n",
       "      <th>finance</th>\n",
       "      <th>computer🔭💊🔬</th>\n",
       "      <th>chemistry</th>\n",
       "    </tr>\n",
       "    <tr>\n",
       "      <th></th>\n",
       "      <th>history</th>\n",
       "      <th>history</th>\n",
       "      <th>history</th>\n",
       "      <th>sociology</th>\n",
       "      <th>arts</th>\n",
       "      <th>library🔭💊🔬</th>\n",
       "      <th>economics</th>\n",
       "      <th>sociology</th>\n",
       "      <th>chemistry</th>\n",
       "      <th>planetary/👽🔭💊🔬</th>\n",
       "      <th>sociology</th>\n",
       "      <th>planetary/👽🔭💊🔬</th>\n",
       "      <th>chemistry</th>\n",
       "      <th>economics</th>\n",
       "      <th>earth🔭💊🔬</th>\n",
       "      <th>signal processing</th>\n",
       "      <th>data🔭💊🔬</th>\n",
       "      <th>computer🔭💊🔬</th>\n",
       "      <th>chemistry</th>\n",
       "      <th>data🔭💊🔬</th>\n",
       "      <th>machine learning</th>\n",
       "      <th>electrical🚂🏢✈️</th>\n",
       "      <th>mathematics</th>\n",
       "      <th>data🔭💊🔬</th>\n",
       "      <th>mechanical🚂🏢✈️</th>\n",
       "      <th>history</th>\n",
       "      <th>artificial intelligence</th>\n",
       "      <th>mathematics</th>\n",
       "      <th>data🔭💊🔬</th>\n",
       "      <th>earth🔭💊🔬</th>\n",
       "    </tr>\n",
       "  </thead>\n",
       "  <tbody>\n",
       "    <tr>\n",
       "      <th>strength</th>\n",
       "      <td>0.813171</td>\n",
       "      <td>0.70425</td>\n",
       "      <td>0.70425</td>\n",
       "      <td>0.70425</td>\n",
       "      <td>0.572675</td>\n",
       "      <td>0.572675</td>\n",
       "      <td>0.493915</td>\n",
       "      <td>0.49187</td>\n",
       "      <td>0.424122</td>\n",
       "      <td>0.399933</td>\n",
       "      <td>0.396587</td>\n",
       "      <td>0.391008</td>\n",
       "      <td>0.368707</td>\n",
       "      <td>0.339075</td>\n",
       "      <td>0.322401</td>\n",
       "      <td>0.322401</td>\n",
       "      <td>0.26733</td>\n",
       "      <td>0.253411</td>\n",
       "      <td>0.252904</td>\n",
       "      <td>0.248555</td>\n",
       "      <td>0.247095</td>\n",
       "      <td>0.227016</td>\n",
       "      <td>0.22689</td>\n",
       "      <td>0.220504</td>\n",
       "      <td>0.217652</td>\n",
       "      <td>0.217385</td>\n",
       "      <td>0.212112</td>\n",
       "      <td>0.212112</td>\n",
       "      <td>0.204863</td>\n",
       "      <td>0.201373</td>\n",
       "    </tr>\n",
       "  </tbody>\n",
       "</table>"
      ],
      "text/plain": [
       "<IPython.core.display.Markdown object>"
      ]
     },
     "metadata": {},
     "output_type": "display_data"
    }
   ],
   "source": [
    "%%md\n",
    "> {{related_topics.transpose().to_html()}}"
   ]
  },
  {
   "cell_type": "markdown",
   "metadata": {},
   "source": [
    "> Some data driven relationships between subjects."
   ]
  },
  {
   "cell_type": "code",
   "execution_count": 21,
   "metadata": {
    "collapsed": false
   },
   "outputs": [
    {
     "data": {
      "image/png": "[encoded data removed]",
      "text/plain": [
       "<matplotlib.figure.Figure at 0x118fe44e0>"
      ]
     },
     "metadata": {},
     "output_type": "display_data"
    }
   ],
   "source": [
    "import networkx as nx; G = nx.from_pandas_dataframe(related_topics.reset_index(), 'level_0', 'level_1', 'strength')\n",
    "pos = nx.layout.spring_layout(G); nx.draw(G,pos); nx.draw_networkx_labels(G, pos);"
   ]
  }
 ],
 "metadata": {
  "anaconda-cloud": {
   "environment": null,
   "thumbnail": "data:image/png;base64,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",
   "url": "https://anaconda.org/tonyfast/jupyter-education-survey-2016"
  },
  "kernelspec": {
   "display_name": "Python [Root]",
   "language": "python",
   "name": "Python [Root]"
  },
  "language_info": {
   "codemirror_mode": {
    "name": "ipython",
    "version": 3
   },
   "file_extension": ".py",
   "mimetype": "text/x-python",
   "name": "python",
   "nbconvert_exporter": "python",
   "pygments_lexer": "ipython3",
   "version": "3.5.2"
  }
 },
 "nbformat": 4,
 "nbformat_minor": 0
}
